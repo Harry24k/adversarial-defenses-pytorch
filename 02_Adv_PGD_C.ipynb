{
 "cells": [
  {
   "cell_type": "markdown",
   "metadata": {},
   "source": [
    "# 02_Adv_PGD_C"
   ]
  },
  {
   "cell_type": "code",
   "execution_count": 1,
   "metadata": {},
   "outputs": [],
   "source": [
    "import numpy as np\n",
    "import random\n",
    "import torch\n",
    "torch.cuda.set_device(1)"
   ]
  },
  {
   "cell_type": "code",
   "execution_count": 2,
   "metadata": {},
   "outputs": [
    {
     "name": "stdout",
     "output_type": "stream",
     "text": [
      "Random Seed: 617\n"
     ]
    }
   ],
   "source": [
    "random_seed = 617\n",
    "torch.manual_seed(random_seed)\n",
    "torch.cuda.manual_seed(random_seed)\n",
    "torch.cuda.manual_seed_all(random_seed) # if use multi-GPU\n",
    "torch.backends.cudnn.deterministic = True\n",
    "torch.backends.cudnn.benchmark = False\n",
    "np.random.seed(random_seed)\n",
    "random.seed(random_seed)\n",
    "print(\"Random Seed:\",random_seed)"
   ]
  },
  {
   "cell_type": "code",
   "execution_count": 3,
   "metadata": {
    "scrolled": false
   },
   "outputs": [
    {
     "name": "stdout",
     "output_type": "stream",
     "text": [
      "Loader : Base\n",
      "Model : Base\n",
      "Train : Adv PGD\n"
     ]
    }
   ],
   "source": [
    "# Import utils from a specific defense\n",
    "from defenses.base.loader import get_loader\n",
    "from defenses.base.model import get_model\n",
    "from defenses.adv_pgd.train import Trainer, get_acc"
   ]
  },
  {
   "cell_type": "code",
   "execution_count": 4,
   "metadata": {},
   "outputs": [],
   "source": [
    "# Set Name\n",
    "NAME = \"02_Adv_PGD_C\""
   ]
  },
  {
   "cell_type": "markdown",
   "metadata": {},
   "source": [
    "## 1. Train"
   ]
  },
  {
   "cell_type": "code",
   "execution_count": 5,
   "metadata": {},
   "outputs": [
    {
     "name": "stdout",
     "output_type": "stream",
     "text": [
      "Files already downloaded and verified\n",
      "Files already downloaded and verified\n",
      "Data Loaded!\n",
      "Train Data Length : 50000\n",
      "Test Data Length : 10000\n",
      "Files already downloaded and verified\n",
      "Files already downloaded and verified\n",
      "Data Loaded!\n",
      "Train Data Length : 50000\n",
      "Test Data Length : 10000\n",
      "WRN-28 is loaded.\n"
     ]
    }
   ],
   "source": [
    "# Get Train, Test datasets\n",
    "train_loader_ns, _ = get_loader(shuffle_train=False)\n",
    "train_loader, test_loader = get_loader(shuffle_train=True)\n",
    "\n",
    "# Get Model\n",
    "model = get_model().cuda()"
   ]
  },
  {
   "cell_type": "code",
   "execution_count": 6,
   "metadata": {},
   "outputs": [],
   "source": [
    "train_sets = iter(train_loader_ns).next()\n",
    "test_sets = iter(test_loader).next()"
   ]
  },
  {
   "cell_type": "code",
   "execution_count": 7,
   "metadata": {
    "scrolled": false
   },
   "outputs": [
    {
     "name": "stdout",
     "output_type": "stream",
     "text": [
      "Train Information:\n",
      "-Epochs: 30\n",
      "-Optimizer: SGD (\n",
      "Parameter Group 0\n",
      "    dampening: 0\n",
      "    initial_lr: 0\n",
      "    lr: 0.0\n",
      "    momentum: 0.9\n",
      "    nesterov: False\n",
      "    weight_decay: 0.0005\n",
      ")\n",
      "-Scheduler: <torch.optim.lr_scheduler.CyclicLR object at 0x7f91b10af908>\n",
      "-Save Path: ./_models/02_Adv_PGD_C\n",
      "-Save Type: Per Epoch\n",
      "-Record Type: Per Epoch\n",
      "-Device: cuda\n",
      "--------------------------------------------------------------------------------------------------------------------------\n",
      "Epoch   Loss     Acc       Clean(Tr)   FGSM(Tr)   PGD(Tr)   GN(Tr)    Clean(Te)   FGSM(Te)   PGD(Te)   GN(Te)    lr       \n",
      "==========================================================================================================================\n",
      "1       2.1059   20.6090   28.1250     13.2812    12.5000   29.6875   38.2812     25.0000    23.4375   36.7188   0.0133   \n",
      "--------------------------------------------------------------------------------------------------------------------------\n",
      "2       1.9880   25.1683   28.9062     17.9688    17.9688   30.4688   34.3750     21.0938    20.3125   39.0625   0.0267   \n",
      "--------------------------------------------------------------------------------------------------------------------------\n",
      "3       1.9431   26.2720   42.1875     25.0000    25.0000   41.4062   39.8438     25.0000    24.2188   34.3750   0.0400   \n",
      "--------------------------------------------------------------------------------------------------------------------------\n",
      "4       1.8650   29.0545   43.7500     31.2500    30.4688   44.5312   46.8750     28.1250    27.3438   48.4375   0.0533   \n",
      "--------------------------------------------------------------------------------------------------------------------------\n",
      "5       1.7894   31.8289   53.9062     24.2188    24.2188   50.7812   53.1250     27.3438    26.5625   52.3438   0.0667   \n",
      "--------------------------------------------------------------------------------------------------------------------------\n",
      "6       1.7326   33.8622   52.3438     38.2812    35.9375   50.0000   54.6875     35.1562    35.1562   53.9062   0.0800   \n",
      "--------------------------------------------------------------------------------------------------------------------------\n",
      "7       1.6714   36.7688   59.3750     37.5000    35.1562   56.2500   55.4688     34.3750    32.0312   50.7812   0.0933   \n",
      "--------------------------------------------------------------------------------------------------------------------------\n",
      "8       1.6323   38.2812   61.7188     38.2812    38.2812   58.5938   60.1562     35.1562    32.8125   60.1562   0.1067   \n",
      "--------------------------------------------------------------------------------------------------------------------------\n",
      "9       1.5969   39.6234   64.0625     39.8438    38.2812   63.2812   60.1562     35.9375    35.1562   57.8125   0.1200   \n",
      "--------------------------------------------------------------------------------------------------------------------------\n",
      "10      1.5660   41.1919   70.3125     43.7500    41.4062   64.8438   61.7188     38.2812    34.3750   60.9375   0.1333   \n",
      "--------------------------------------------------------------------------------------------------------------------------\n",
      "11      1.5408   41.8950   67.1875     44.5312    37.5000   67.9688   60.1562     30.4688    28.9062   60.1562   0.1467   \n",
      "--------------------------------------------------------------------------------------------------------------------------\n",
      "12      1.5220   42.7404   64.0625     42.9688    39.8438   55.4688   64.0625     42.9688    42.1875   59.3750   0.1600   \n",
      "--------------------------------------------------------------------------------------------------------------------------\n",
      "13      1.5032   43.8341   72.6562     46.8750    45.3125   71.0938   62.5000     38.2812    35.1562   62.5000   0.1733   \n",
      "--------------------------------------------------------------------------------------------------------------------------\n",
      "14      1.4864   44.2328   71.8750     47.6562    46.0938   70.3125   72.6562     40.6250    37.5000   70.3125   0.1867   \n",
      "--------------------------------------------------------------------------------------------------------------------------\n",
      "15      1.4712   44.7476   64.8438     41.4062    39.8438   60.1562   65.6250     41.4062    38.2812   64.8438   0.2000   \n",
      "--------------------------------------------------------------------------------------------------------------------------\n",
      "16      1.4553   45.6410   70.3125     45.3125    43.7500   60.9375   70.3125     44.5312    42.1875   64.8438   0.1867   \n",
      "--------------------------------------------------------------------------------------------------------------------------\n",
      "17      1.4375   46.0216   74.2188     51.5625    47.6562   70.3125   70.3125     42.9688    42.1875   74.2188   0.1733   \n",
      "--------------------------------------------------------------------------------------------------------------------------\n",
      "18      1.4133   46.8429   76.5625     52.3438    50.7812   69.5312   71.0938     44.5312    42.1875   64.0625   0.1600   \n",
      "--------------------------------------------------------------------------------------------------------------------------\n",
      "19      1.3974   47.3998   74.2188     50.7812    47.6562   64.0625   69.5312     48.4375    44.5312   62.5000   0.1467   \n",
      "--------------------------------------------------------------------------------------------------------------------------\n",
      "20      1.3804   47.9627   75.7812     50.0000    46.8750   67.1875   79.6875     47.6562    45.3125   60.1562   0.1333   \n",
      "--------------------------------------------------------------------------------------------------------------------------\n",
      "21      1.3590   48.8822   80.4688     52.3438    48.4375   67.1875   72.6562     47.6562    46.0938   68.7500   0.1200   \n",
      "--------------------------------------------------------------------------------------------------------------------------\n",
      "22      1.3369   49.7095   76.5625     55.4688    50.7812   67.9688   72.6562     46.0938    44.5312   62.5000   0.1067   \n",
      "--------------------------------------------------------------------------------------------------------------------------\n",
      "23      1.3162   50.3746   81.2500     57.8125    56.2500   75.0000   76.5625     46.0938    42.9688   75.0000   0.0933   \n",
      "--------------------------------------------------------------------------------------------------------------------------\n",
      "24      1.2904   51.2039   78.1250     61.7188    57.8125   69.5312   76.5625     50.7812    47.6562   67.1875   0.0800   \n",
      "--------------------------------------------------------------------------------------------------------------------------\n",
      "25      1.2594   52.6322   85.1562     60.1562    57.0312   75.7812   78.9062     48.4375    44.5312   75.0000   0.0667   \n",
      "--------------------------------------------------------------------------------------------------------------------------\n",
      "26      1.2266   53.5777   82.8125     53.1250    48.4375   71.8750   79.6875     54.6875    48.4375   71.8750   0.0533   \n",
      "--------------------------------------------------------------------------------------------------------------------------\n",
      "27      1.1817   55.0020   85.9375     64.8438    61.7188   78.9062   81.2500     53.9062    47.6562   78.9062   0.0400   \n",
      "--------------------------------------------------------------------------------------------------------------------------\n",
      "28      1.1276   57.0473   88.2812     63.2812    60.9375   77.3438   81.2500     60.1562    54.6875   71.0938   0.0267   \n",
      "--------------------------------------------------------------------------------------------------------------------------\n",
      "29      1.0567   59.5753   88.2812     68.7500    64.8438   81.2500   85.9375     60.1562    54.6875   79.6875   0.0133   \n",
      "--------------------------------------------------------------------------------------------------------------------------\n",
      "30      0.9505   63.2432   90.6250     75.0000    71.0938   82.8125   86.7188     61.7188    53.9062   82.0312   0.0000   \n",
      "--------------------------------------------------------------------------------------------------------------------------\n",
      "==========================================================================================================================\n",
      "Total Epoch: 30\n",
      "Time Elapsed: 11:13:16.987184\n",
      "Min(epoch)/Max(epoch): \n",
      "-Loss: 0.9505(30)/2.1059(1)\n",
      "-Acc: 20.6090(1)/63.2432(30)\n",
      "-Clean(Tr): 28.1250(1)/90.6250(30)\n",
      "-FGSM(Tr): 13.2812(1)/75.0000(30)\n",
      "-PGD(Tr): 12.5000(1)/71.0938(30)\n",
      "-GN(Tr): 29.6875(1)/82.8125(30)\n",
      "-Clean(Te): 34.3750(2)/86.7188(30)\n",
      "-FGSM(Te): 21.0938(2)/61.7188(30)\n",
      "-PGD(Te): 20.3125(2)/54.6875(28)\n",
      "-GN(Te): 34.3750(3)/82.0312(30)\n",
      "-lr: 0.0000(30)/0.2000(15)\n",
      "--------------------------------------------------------------------------------------------------------------------------\n"
     ]
    }
   ],
   "source": [
    "# Train Model\n",
    "trainer = Trainer(model, train_sets, test_sets,\n",
    "                  eps=8/255, alpha=2/255, steps=7, random_start=True)\n",
    "trainer.train(train_loader, epochs=30,\n",
    "              save_path=\"./_models/\"+NAME, scheduler=\"Cyclic\", \n",
    "              record_type=\"Epoch\", save_type=\"Epoch\")"
   ]
  },
  {
   "cell_type": "code",
   "execution_count": 8,
   "metadata": {},
   "outputs": [
    {
     "name": "stdout",
     "output_type": "stream",
     "text": [
      "...Saved as csv to ./_models/02_Adv_PGD_C.csv !\n"
     ]
    }
   ],
   "source": [
    "trainer.save_all(\"./_models/\"+NAME)"
   ]
  },
  {
   "cell_type": "code",
   "execution_count": 9,
   "metadata": {},
   "outputs": [
    {
     "name": "stdout",
     "output_type": "stream",
     "text": [
      "Final Test Acc : 85.39\n"
     ]
    }
   ],
   "source": [
    "print(\"Final Test Acc : %2.2f\"%get_acc(model, test_loader))"
   ]
  },
  {
   "cell_type": "markdown",
   "metadata": {},
   "source": [
    "## 2. Record Visualization"
   ]
  },
  {
   "cell_type": "code",
   "execution_count": 10,
   "metadata": {},
   "outputs": [
    {
     "data": {
      "image/png": "[encoded data removed]",
      "text/plain": [
       "<Figure size 432x432 with 1 Axes>"
      ]
     },
     "metadata": {},
     "output_type": "display_data"
    }
   ],
   "source": [
    "# Plot Train and Test Accuracy\n",
    "trainer.rm.plot(title=NAME, xlabel=\"Epoch\", ylabel=\"Accuracy\", ylabel_second=\"Loss\",\n",
    "                x_key='Epoch', y_keys=['Acc', 'Clean(Te)', 'FGSM(Te)', 'PGD(Te)', 'GN(Te)'],\n",
    "                ylim=(-10, 110), colors=['k', 'r', 'g', 'b', 'c'])"
   ]
  },
  {
   "cell_type": "markdown",
   "metadata": {},
   "source": [
    "## 3. White Box Attack"
   ]
  },
  {
   "cell_type": "code",
   "execution_count": 11,
   "metadata": {},
   "outputs": [],
   "source": [
    "import torchattacks\n",
    "from torchattacks import FGSM, PGD, MultiAttack"
   ]
  },
  {
   "cell_type": "code",
   "execution_count": 12,
   "metadata": {},
   "outputs": [],
   "source": [
    "model.load_state_dict(torch.load(\"./_models/\"+NAME+\".pth\"))\n",
    "model = model.cuda().eval()"
   ]
  },
  {
   "cell_type": "markdown",
   "metadata": {},
   "source": [
    "### 3.1 FGSM"
   ]
  },
  {
   "cell_type": "code",
   "execution_count": 13,
   "metadata": {},
   "outputs": [
    {
     "name": "stdout",
     "output_type": "stream",
     "text": [
      "- Save Progress : 100.00 % / Accuracy : 59.06 %\n",
      "- Save Complete!\n"
     ]
    }
   ],
   "source": [
    "fgsm = FGSM(model, eps=8/255)\n",
    "fgsm.set_mode('int')\n",
    "fgsm.save(data_loader=test_loader,\n",
    "          file_name=\"./_datasets/\"+NAME+\"_FGSM.pt\", accuracy=True)"
   ]
  },
  {
   "cell_type": "markdown",
   "metadata": {},
   "source": [
    "### 3.2 PGD"
   ]
  },
  {
   "cell_type": "code",
   "execution_count": 14,
   "metadata": {},
   "outputs": [
    {
     "name": "stdout",
     "output_type": "stream",
     "text": [
      "- Save Progress : 100.00 % / Accuracy : 51.67 %\n",
      "- Save Complete!\n"
     ]
    }
   ],
   "source": [
    "# WB2 : PGD\n",
    "pgd = PGD(model, alpha=2/255, eps=8/255, steps=50)\n",
    "pgd.set_mode('int')\n",
    "pgd.save(data_loader=test_loader,\n",
    "         file_name=\"./_datasets/\"+NAME+\"_PGD.pt\", accuracy=True)"
   ]
  },
  {
   "cell_type": "markdown",
   "metadata": {},
   "source": [
    "### 3.3 PGD with 10 Random Restarts"
   ]
  },
  {
   "cell_type": "code",
   "execution_count": 15,
   "metadata": {},
   "outputs": [
    {
     "name": "stdout",
     "output_type": "stream",
     "text": [
      "- Save Progress : 100.00 % / Accuracy : 51.34 %\n",
      "- Save Complete!\n"
     ]
    }
   ],
   "source": [
    "# WB3 : PGD\n",
    "pgd = PGD(model, alpha=2/255, eps=8/255, steps=50, random_start=True)\n",
    "multi = MultiAttack(model, [pgd]*10)\n",
    "multi.set_mode('int')\n",
    "multi.save(data_loader=test_loader,\n",
    "           file_name=\"./_datasets/\"+NAME+\"_RPGD.pt\", accuracy=True)"
   ]
  },
  {
   "cell_type": "markdown",
   "metadata": {},
   "source": [
    "## 4. Black Box Attack"
   ]
  },
  {
   "cell_type": "code",
   "execution_count": 16,
   "metadata": {},
   "outputs": [],
   "source": [
    "from torch.utils.data import TensorDataset, DataLoader"
   ]
  },
  {
   "cell_type": "code",
   "execution_count": 17,
   "metadata": {},
   "outputs": [
    {
     "data": {
      "text/plain": [
       "84.44"
      ]
     },
     "execution_count": 17,
     "metadata": {},
     "output_type": "execute_result"
    }
   ],
   "source": [
    "# BB1 : WRN_28_20\n",
    "adv_images, adv_labels = torch.load(\"./_datasets/00_WRN_28_20_PGD.pt\")\n",
    "adv_data = TensorDataset(adv_images.float()/255, adv_labels)\n",
    "adv_loader = DataLoader(adv_data, batch_size=128, shuffle=False)\n",
    "get_acc(model, adv_loader)"
   ]
  },
  {
   "cell_type": "code",
   "execution_count": 18,
   "metadata": {},
   "outputs": [
    {
     "data": {
      "text/plain": [
       "84.43"
      ]
     },
     "execution_count": 18,
     "metadata": {},
     "output_type": "execute_result"
    }
   ],
   "source": [
    "# BB2 : WRN_40_10\n",
    "adv_images, adv_labels = torch.load(\"./_datasets/00_WRN_40_10_PGD.pt\")\n",
    "adv_data = torch.utils.data.TensorDataset(adv_images.float()/255, adv_labels)\n",
    "adv_loader = DataLoader(adv_data, batch_size=128, shuffle=False)\n",
    "get_acc(model, adv_loader)"
   ]
  }
 ],
 "metadata": {
  "kernelspec": {
   "display_name": "Python 3",
   "language": "python",
   "name": "python3"
  },
  "language_info": {
   "codemirror_mode": {
    "name": "ipython",
    "version": 3
   },
   "file_extension": ".py",
   "mimetype": "text/x-python",
   "name": "python",
   "nbconvert_exporter": "python",
   "pygments_lexer": "ipython3",
   "version": "3.6.3"
  }
 },
 "nbformat": 4,
 "nbformat_minor": 2
}
