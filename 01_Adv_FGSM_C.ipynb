{
 "cells": [
  {
   "cell_type": "markdown",
   "metadata": {},
   "source": [
    "# 01_Adv_FGSM_C"
   ]
  },
  {
   "cell_type": "code",
   "execution_count": 1,
   "metadata": {},
   "outputs": [],
   "source": [
    "import numpy as np\n",
    "import random\n",
    "import torch\n",
    "torch.cuda.set_device(4)"
   ]
  },
  {
   "cell_type": "code",
   "execution_count": 2,
   "metadata": {},
   "outputs": [
    {
     "name": "stdout",
     "output_type": "stream",
     "text": [
      "Random Seed: 617\n"
     ]
    }
   ],
   "source": [
    "random_seed = 617\n",
    "torch.manual_seed(random_seed)\n",
    "torch.cuda.manual_seed(random_seed)\n",
    "torch.cuda.manual_seed_all(random_seed) # if use multi-GPU\n",
    "torch.backends.cudnn.deterministic = True\n",
    "torch.backends.cudnn.benchmark = False\n",
    "np.random.seed(random_seed)\n",
    "random.seed(random_seed)\n",
    "print(\"Random Seed:\",random_seed)"
   ]
  },
  {
   "cell_type": "code",
   "execution_count": 3,
   "metadata": {
    "scrolled": false
   },
   "outputs": [
    {
     "name": "stdout",
     "output_type": "stream",
     "text": [
      "Loader : Base\n",
      "Model : Base\n",
      "Train : Adv FSGM\n"
     ]
    }
   ],
   "source": [
    "# Import utils from a specific defense\n",
    "from defenses.base.loader import get_loader\n",
    "from defenses.base.model import get_model\n",
    "from defenses.adv_fgsm.train import Trainer, get_acc"
   ]
  },
  {
   "cell_type": "code",
   "execution_count": 4,
   "metadata": {},
   "outputs": [],
   "source": [
    "# Set Name\n",
    "NAME = \"01_Adv_FGSM_C\""
   ]
  },
  {
   "cell_type": "markdown",
   "metadata": {},
   "source": [
    "## 1. Train"
   ]
  },
  {
   "cell_type": "code",
   "execution_count": 5,
   "metadata": {},
   "outputs": [
    {
     "name": "stdout",
     "output_type": "stream",
     "text": [
      "Files already downloaded and verified\n",
      "Files already downloaded and verified\n",
      "Data Loaded!\n",
      "Train Data Length : 50000\n",
      "Test Data Length : 10000\n",
      "Files already downloaded and verified\n",
      "Files already downloaded and verified\n",
      "Data Loaded!\n",
      "Train Data Length : 50000\n",
      "Test Data Length : 10000\n",
      "WRN-28 is loaded.\n"
     ]
    }
   ],
   "source": [
    "# Get Train, Test datasets\n",
    "train_loader_ns, _ = get_loader(shuffle_train=False)\n",
    "train_loader, test_loader = get_loader(shuffle_train=True)\n",
    "\n",
    "# Get Model\n",
    "model = get_model().cuda()"
   ]
  },
  {
   "cell_type": "code",
   "execution_count": 6,
   "metadata": {},
   "outputs": [],
   "source": [
    "train_sets = iter(train_loader_ns).next()\n",
    "test_sets = iter(test_loader).next()"
   ]
  },
  {
   "cell_type": "code",
   "execution_count": 7,
   "metadata": {
    "scrolled": false
   },
   "outputs": [
    {
     "name": "stdout",
     "output_type": "stream",
     "text": [
      "Train Information:\n",
      "-Epochs: 30\n",
      "-Optimizer: SGD (\n",
      "Parameter Group 0\n",
      "    dampening: 0\n",
      "    initial_lr: 0\n",
      "    lr: 0.0\n",
      "    momentum: 0.9\n",
      "    nesterov: False\n",
      "    weight_decay: 0.0005\n",
      ")\n",
      "-Scheduler: <torch.optim.lr_scheduler.CyclicLR object at 0x7efd163e9f28>\n",
      "-Save Path: ./_models/01_Adv_FGSM_C\n",
      "-Save Type: Per Epoch\n",
      "-Record Type: Per Epoch\n",
      "-Device: cuda\n",
      "--------------------------------------------------------------------------------------------------------------------------\n",
      "Epoch   Loss     Acc       Clean(Tr)   FGSM(Tr)   PGD(Tr)   GN(Tr)    Clean(Te)   FGSM(Te)   PGD(Te)   GN(Te)    lr       \n",
      "==========================================================================================================================\n",
      "1       2.1099   20.4267   26.5625     15.6250    14.0625   27.3438   36.7188     26.5625    24.2188   35.9375   0.0133   \n",
      "--------------------------------------------------------------------------------------------------------------------------\n",
      "2       1.9840   25.0200   28.9062     18.7500    17.1875   31.2500   35.1562     22.6562    20.3125   39.0625   0.0267   \n",
      "--------------------------------------------------------------------------------------------------------------------------\n",
      "3       1.9381   26.1659   39.8438     25.0000    25.0000   44.5312   35.9375     21.8750    22.6562   34.3750   0.0400   \n",
      "--------------------------------------------------------------------------------------------------------------------------\n",
      "4       1.8575   29.2147   45.3125     31.2500    29.6875   42.1875   46.0938     29.6875    28.9062   50.7812   0.0533   \n",
      "--------------------------------------------------------------------------------------------------------------------------\n",
      "5       1.7837   31.9551   49.2188     23.4375    19.5312   50.7812   50.7812     28.1250    22.6562   50.7812   0.0667   \n",
      "--------------------------------------------------------------------------------------------------------------------------\n",
      "6       1.7237   33.9022   51.5625     35.9375    32.0312   49.2188   55.4688     38.2812    36.7188   53.1250   0.0800   \n",
      "--------------------------------------------------------------------------------------------------------------------------\n",
      "7       1.6626   36.7588   63.2812     38.2812    34.3750   57.0312   57.8125     35.1562    31.2500   52.3438   0.0933   \n",
      "--------------------------------------------------------------------------------------------------------------------------\n",
      "8       1.6203   38.5296   60.9375     39.0625    35.9375   54.6875   58.5938     35.1562    33.5938   62.5000   0.1067   \n",
      "--------------------------------------------------------------------------------------------------------------------------\n",
      "9       1.5833   40.0341   65.6250     42.1875    38.2812   64.8438   61.7188     37.5000    36.7188   60.1562   0.1200   \n",
      "--------------------------------------------------------------------------------------------------------------------------\n",
      "10      1.5510   41.5605   64.8438     41.4062    41.4062   61.7188   59.3750     36.7188    36.7188   63.2812   0.1333   \n",
      "--------------------------------------------------------------------------------------------------------------------------\n",
      "11      1.5244   42.4700   66.4062     39.8438    36.7188   64.8438   59.3750     29.6875    26.5625   60.9375   0.1467   \n",
      "--------------------------------------------------------------------------------------------------------------------------\n",
      "12      1.5043   43.2893   63.2812     44.5312    37.5000   56.2500   60.9375     42.9688    41.4062   57.0312   0.1600   \n",
      "--------------------------------------------------------------------------------------------------------------------------\n",
      "13      1.4841   44.5012   73.4375     44.5312    41.4062   68.7500   61.7188     42.9688    37.5000   64.0625   0.1733   \n",
      "--------------------------------------------------------------------------------------------------------------------------\n",
      "14      1.4644   45.0541   67.9688     42.9688    42.1875   62.5000   71.8750     41.4062    37.5000   68.7500   0.1867   \n",
      "--------------------------------------------------------------------------------------------------------------------------\n",
      "15      1.4482   45.6210   68.7500     37.5000    35.9375   58.5938   66.4062     33.5938    32.0312   60.1562   0.2000   \n",
      "--------------------------------------------------------------------------------------------------------------------------\n",
      "16      1.4295   46.6206   73.4375     48.4375    44.5312   58.5938   72.6562     46.0938    42.9688   63.2812   0.1867   \n",
      "--------------------------------------------------------------------------------------------------------------------------\n",
      "17      1.3836   48.1170   74.2188     50.0000    43.7500   69.5312   74.2188     45.3125    43.7500   75.7812   0.1733   \n",
      "--------------------------------------------------------------------------------------------------------------------------\n",
      "18      1.2045   56.0176   47.6562     67.9688    0.0000    43.7500   50.7812     71.0938    0.0000    44.5312   0.1600   \n",
      "--------------------------------------------------------------------------------------------------------------------------\n",
      "19      1.3091   51.4363   75.7812     49.2188    43.7500   63.2812   71.8750     50.0000    45.3125   61.7188   0.1467   \n",
      "--------------------------------------------------------------------------------------------------------------------------\n",
      "20      1.3757   48.2151   77.3438     53.1250    49.2188   67.9688   78.9062     51.5625    43.7500   60.9375   0.1333   \n",
      "--------------------------------------------------------------------------------------------------------------------------\n",
      "21      1.1384   58.1230   51.5625     76.5625    1.5625    40.6250   53.1250     75.0000    1.5625    49.2188   0.1200   \n",
      "--------------------------------------------------------------------------------------------------------------------------\n",
      "22      0.5123   82.9387   45.3125     78.1250    0.0000    45.3125   41.4062     77.3438    0.0000    48.4375   0.1067   \n",
      "--------------------------------------------------------------------------------------------------------------------------\n",
      "23      0.7358   73.7360   75.0000     46.8750    43.7500   70.3125   75.7812     44.5312    39.8438   75.7812   0.0933   \n",
      "--------------------------------------------------------------------------------------------------------------------------\n",
      "24      1.4085   47.1775   75.7812     52.3438    47.6562   68.7500   76.5625     46.0938    42.1875   64.8438   0.0800   \n",
      "--------------------------------------------------------------------------------------------------------------------------\n",
      "25      1.3211   50.2945   78.9062     57.8125    53.9062   73.4375   77.3438     48.4375    42.1875   75.0000   0.0667   \n",
      "--------------------------------------------------------------------------------------------------------------------------\n",
      "26      1.2712   52.0092   82.8125     58.5938    50.7812   75.7812   82.0312     50.7812    46.8750   75.7812   0.0533   \n",
      "--------------------------------------------------------------------------------------------------------------------------\n",
      "27      0.6109   78.1230   64.0625     96.0938    0.0000    50.7812   65.6250     95.3125    0.0000    47.6562   0.0400   \n",
      "--------------------------------------------------------------------------------------------------------------------------\n",
      "28      0.2117   93.2212   71.0938     98.4375    0.0000    65.6250   72.6562     97.6562    0.0000    61.7188   0.0267   \n",
      "--------------------------------------------------------------------------------------------------------------------------\n",
      "29      0.0660   98.0208   69.5312     96.0938    0.0000    65.6250   67.1875     96.8750    0.0000    60.9375   0.0133   \n",
      "--------------------------------------------------------------------------------------------------------------------------\n",
      "30      0.0597   98.1711   60.9375     97.6562    0.0000    72.6562   61.7188     98.4375    0.0000    67.9688   0.0000   \n",
      "--------------------------------------------------------------------------------------------------------------------------\n",
      "==========================================================================================================================\n",
      "Total Epoch: 30\n",
      "Time Elapsed: 2:42:06.464835\n",
      "Min(epoch)/Max(epoch): \n",
      "-Loss: 0.0597(30)/2.1099(1)\n",
      "-Acc: 20.4267(1)/98.1711(30)\n",
      "-Clean(Tr): 26.5625(1)/82.8125(26)\n",
      "-FGSM(Tr): 15.6250(1)/98.4375(28)\n",
      "-PGD(Tr): 0.0000(18)/53.9062(25)\n",
      "-GN(Tr): 27.3438(1)/75.7812(26)\n",
      "-Clean(Te): 35.1562(2)/82.0312(26)\n",
      "-FGSM(Te): 21.8750(3)/98.4375(30)\n",
      "-PGD(Te): 0.0000(18)/46.8750(26)\n",
      "-GN(Te): 34.3750(3)/75.7812(17)\n",
      "-lr: 0.0000(30)/0.2000(15)\n",
      "--------------------------------------------------------------------------------------------------------------------------\n"
     ]
    }
   ],
   "source": [
    "# Train Model\n",
    "trainer = Trainer(model, train_sets, test_sets, eps=8/255)\n",
    "trainer.train(train_loader, epochs=30,\n",
    "              save_path=\"./_models/\"+NAME, scheduler=\"Cyclic\", \n",
    "              record_type=\"Epoch\", save_type=\"Epoch\")"
   ]
  },
  {
   "cell_type": "code",
   "execution_count": 8,
   "metadata": {},
   "outputs": [
    {
     "name": "stdout",
     "output_type": "stream",
     "text": [
      "...Saved as csv to ./_models/01_Adv_FGSM_C.csv !\n"
     ]
    }
   ],
   "source": [
    "trainer.save_all(\"./_models/\"+NAME)"
   ]
  },
  {
   "cell_type": "code",
   "execution_count": 9,
   "metadata": {},
   "outputs": [
    {
     "name": "stdout",
     "output_type": "stream",
     "text": [
      "Final Test Acc : 61.61\n"
     ]
    }
   ],
   "source": [
    "print(\"Final Test Acc : %2.2f\"%get_acc(model, test_loader))"
   ]
  },
  {
   "cell_type": "markdown",
   "metadata": {},
   "source": [
    "## 2. Record Visualization"
   ]
  },
  {
   "cell_type": "code",
   "execution_count": 11,
   "metadata": {},
   "outputs": [
    {
     "data": {
      "image/png": "[encoded data removed]",
      "text/plain": [
       "<Figure size 432x432 with 1 Axes>"
      ]
     },
     "metadata": {},
     "output_type": "display_data"
    }
   ],
   "source": [
    "# Plot Train and Test Accuracy\n",
    "trainer.rm.plot(title=NAME, xlabel=\"Epoch\", ylabel=\"Accuracy\", ylabel_second=\"Loss\",\n",
    "                x_key='Epoch', y_keys=['Acc', 'Clean(Te)', 'FGSM(Te)', 'PGD(Te)', 'GN(Te)'],\n",
    "                ylim=(-10, 110), colors=['k', 'r', 'g', 'b', 'c'])"
   ]
  },
  {
   "cell_type": "markdown",
   "metadata": {},
   "source": [
    "## 3. White Box Attack"
   ]
  },
  {
   "cell_type": "code",
   "execution_count": 12,
   "metadata": {},
   "outputs": [],
   "source": [
    "import torchattacks\n",
    "from torchattacks import FGSM, PGD, MultiAttack"
   ]
  },
  {
   "cell_type": "code",
   "execution_count": 13,
   "metadata": {},
   "outputs": [],
   "source": [
    "model.load_state_dict(torch.load(\"./_models/\"+NAME+\".pth\"))\n",
    "model = model.cuda().eval()"
   ]
  },
  {
   "cell_type": "markdown",
   "metadata": {},
   "source": [
    "### 3.1 FGSM"
   ]
  },
  {
   "cell_type": "code",
   "execution_count": 14,
   "metadata": {},
   "outputs": [
    {
     "name": "stdout",
     "output_type": "stream",
     "text": [
      "- Save Progress : 100.00 % / Accuracy : 98.50 %\n",
      "- Save Complete!\n"
     ]
    }
   ],
   "source": [
    "fgsm = FGSM(model, eps=8/255)\n",
    "fgsm.set_mode('int')\n",
    "fgsm.save(data_loader=test_loader,\n",
    "          file_name=\"./_datasets/\"+NAME+\"_FGSM.pt\", accuracy=True)"
   ]
  },
  {
   "cell_type": "markdown",
   "metadata": {},
   "source": [
    "### 3.2 PGD"
   ]
  },
  {
   "cell_type": "code",
   "execution_count": 15,
   "metadata": {},
   "outputs": [
    {
     "name": "stdout",
     "output_type": "stream",
     "text": [
      "- Save Progress : 100.00 % / Accuracy : 0.00 %\n",
      "- Save Complete!\n"
     ]
    }
   ],
   "source": [
    "# WB2 : PGD\n",
    "pgd = PGD(model, alpha=2/255, eps=8/255, iters=50)\n",
    "pgd.set_mode('int')\n",
    "pgd.save(data_loader=test_loader,\n",
    "         file_name=\"./_datasets/\"+NAME+\"_PGD.pt\", accuracy=True)"
   ]
  },
  {
   "cell_type": "markdown",
   "metadata": {},
   "source": [
    "### 3.3 PGD with 10 Random Restarts"
   ]
  },
  {
   "cell_type": "code",
   "execution_count": 16,
   "metadata": {},
   "outputs": [
    {
     "name": "stdout",
     "output_type": "stream",
     "text": [
      "- Multi Attack Progress [1 / 10]             \r"
     ]
    },
    {
     "name": "stderr",
     "output_type": "stream",
     "text": [
      "/usr/local/lib/python3.6/dist-packages/torchattacks/attacks/multiattack.py:58: Warning:\n",
      "\n",
      "\n",
      " * Ealry Stopped cause all images are successfully perturbed.\n",
      "\n"
     ]
    },
    {
     "name": "stdout",
     "output_type": "stream",
     "text": [
      "- Save Progress : 100.00 % / Accuracy : 0.00 %\n",
      "- Save Complete!\n"
     ]
    }
   ],
   "source": [
    "# WB3 : PGD\n",
    "pgd = PGD(model, alpha=2/255, eps=8/255, iters=50, random_start=True)\n",
    "multi = MultiAttack(model, [pgd]*10)\n",
    "multi.set_mode('int')\n",
    "multi.save(data_loader=test_loader,\n",
    "           file_name=\"./_datasets/\"+NAME+\"_RPGD.pt\", accuracy=True)"
   ]
  },
  {
   "cell_type": "markdown",
   "metadata": {},
   "source": [
    "## 4. Black Box Attack"
   ]
  },
  {
   "cell_type": "code",
   "execution_count": 17,
   "metadata": {},
   "outputs": [],
   "source": [
    "from torch.utils.data import TensorDataset, DataLoader"
   ]
  },
  {
   "cell_type": "code",
   "execution_count": 18,
   "metadata": {},
   "outputs": [
    {
     "data": {
      "text/plain": [
       "67.94"
      ]
     },
     "execution_count": 18,
     "metadata": {},
     "output_type": "execute_result"
    }
   ],
   "source": [
    "# BB1 : WRN_28_20\n",
    "adv_images, adv_labels = torch.load(\"./_datasets/00_WRN_28_20_PGD.pt\")\n",
    "adv_data = TensorDataset(adv_images.float()/255, adv_labels)\n",
    "adv_loader = DataLoader(adv_data, batch_size=128, shuffle=False)\n",
    "get_acc(model, adv_loader)"
   ]
  },
  {
   "cell_type": "code",
   "execution_count": 19,
   "metadata": {},
   "outputs": [
    {
     "data": {
      "text/plain": [
       "68.28"
      ]
     },
     "execution_count": 19,
     "metadata": {},
     "output_type": "execute_result"
    }
   ],
   "source": [
    "# BB2 : WRN_40_10\n",
    "adv_images, adv_labels = torch.load(\"./_datasets/00_WRN_40_10_PGD.pt\")\n",
    "adv_data = torch.utils.data.TensorDataset(adv_images.float()/255, adv_labels)\n",
    "adv_loader = DataLoader(adv_data, batch_size=128, shuffle=False)\n",
    "get_acc(model, adv_loader)"
   ]
  }
 ],
 "metadata": {
  "kernelspec": {
   "display_name": "Python 3",
   "language": "python",
   "name": "python3"
  },
  "language_info": {
   "codemirror_mode": {
    "name": "ipython",
    "version": 3
   },
   "file_extension": ".py",
   "mimetype": "text/x-python",
   "name": "python",
   "nbconvert_exporter": "python",
   "pygments_lexer": "ipython3",
   "version": "3.6.3"
  }
 },
 "nbformat": 4,
 "nbformat_minor": 2
}
