{
 "cells": [
  {
   "cell_type": "markdown",
   "metadata": {},
   "source": [
    "# 00_Base_C"
   ]
  },
  {
   "cell_type": "code",
   "execution_count": 1,
   "metadata": {},
   "outputs": [],
   "source": [
    "import numpy as np\n",
    "import random\n",
    "import torch\n",
    "torch.cuda.set_device(2)"
   ]
  },
  {
   "cell_type": "code",
   "execution_count": 2,
   "metadata": {},
   "outputs": [
    {
     "name": "stdout",
     "output_type": "stream",
     "text": [
      "Random Seed: 617\n"
     ]
    }
   ],
   "source": [
    "random_seed = 617\n",
    "torch.manual_seed(random_seed)\n",
    "torch.cuda.manual_seed(random_seed)\n",
    "torch.cuda.manual_seed_all(random_seed) # if use multi-GPU\n",
    "torch.backends.cudnn.deterministic = True\n",
    "torch.backends.cudnn.benchmark = False\n",
    "np.random.seed(random_seed)\n",
    "random.seed(random_seed)\n",
    "print(\"Random Seed:\",random_seed)"
   ]
  },
  {
   "cell_type": "code",
   "execution_count": 3,
   "metadata": {
    "scrolled": false
   },
   "outputs": [
    {
     "name": "stdout",
     "output_type": "stream",
     "text": [
      "Loader : Base\n",
      "Model : Base\n",
      "Train : Base\n"
     ]
    }
   ],
   "source": [
    "# Import utils from a specific defense\n",
    "from defenses.base.loader import get_loader\n",
    "from defenses.base.model import get_model\n",
    "from defenses.base.train import Trainer, get_acc"
   ]
  },
  {
   "cell_type": "code",
   "execution_count": 4,
   "metadata": {},
   "outputs": [],
   "source": [
    "# Set Name\n",
    "NAME = \"00_Base_C\""
   ]
  },
  {
   "cell_type": "markdown",
   "metadata": {},
   "source": [
    "## 1. Train"
   ]
  },
  {
   "cell_type": "code",
   "execution_count": 5,
   "metadata": {},
   "outputs": [
    {
     "name": "stdout",
     "output_type": "stream",
     "text": [
      "Files already downloaded and verified\n",
      "Files already downloaded and verified\n",
      "Data Loaded!\n",
      "Train Data Length : 50000\n",
      "Test Data Length : 10000\n",
      "Files already downloaded and verified\n",
      "Files already downloaded and verified\n",
      "Data Loaded!\n",
      "Train Data Length : 50000\n",
      "Test Data Length : 10000\n",
      "WRN-28 is loaded.\n"
     ]
    }
   ],
   "source": [
    "# Get Train, Test datasets\n",
    "train_loader_ns, _ = get_loader(shuffle_train=False)\n",
    "train_loader, test_loader = get_loader(shuffle_train=True)\n",
    "\n",
    "# Get Model\n",
    "model = get_model().cuda()"
   ]
  },
  {
   "cell_type": "code",
   "execution_count": 6,
   "metadata": {},
   "outputs": [],
   "source": [
    "train_sets = iter(train_loader_ns).next()\n",
    "test_sets = iter(test_loader).next()"
   ]
  },
  {
   "cell_type": "code",
   "execution_count": 7,
   "metadata": {
    "scrolled": false
   },
   "outputs": [
    {
     "name": "stdout",
     "output_type": "stream",
     "text": [
      "Train Information:\n",
      "-Epochs: 30\n",
      "-Optimizer: SGD (\n",
      "Parameter Group 0\n",
      "    dampening: 0\n",
      "    initial_lr: 0\n",
      "    lr: 0.0\n",
      "    momentum: 0.9\n",
      "    nesterov: False\n",
      "    weight_decay: 0.0005\n",
      ")\n",
      "-Scheduler: <torch.optim.lr_scheduler.CyclicLR object at 0x7f8c86883c18>\n",
      "-Save Path: ./_models/00_Base_C\n",
      "-Save Type: Per Epoch\n",
      "-Record Type: Per Epoch\n",
      "-Device: cuda\n",
      "--------------------------------------------------------------------------------------------------------------------------\n",
      "Epoch   Loss     Acc       Clean(Tr)   FGSM(Tr)   PGD(Tr)   GN(Tr)    Clean(Te)   FGSM(Te)   PGD(Te)   GN(Te)    lr       \n",
      "==========================================================================================================================\n",
      "1       1.9526   25.4587   25.0000     6.2500     4.6875    25.0000   33.5938     7.0312     6.2500    30.4688   0.0133   \n",
      "--------------------------------------------------------------------------------------------------------------------------\n",
      "2       1.4027   48.2131   56.2500     7.0312     0.7812    35.9375   53.9062     5.4688     0.7812    38.2812   0.0267   \n",
      "--------------------------------------------------------------------------------------------------------------------------\n",
      "3       1.0466   62.4920   56.2500     9.3750     0.0000    29.6875   59.3750     14.0625    0.7812    32.8125   0.0400   \n",
      "--------------------------------------------------------------------------------------------------------------------------\n",
      "4       0.8599   69.7456   75.7812     1.5625     0.0000    29.6875   71.0938     1.5625     0.0000    37.5000   0.0533   \n",
      "--------------------------------------------------------------------------------------------------------------------------\n",
      "5       0.7219   75.1122   69.5312     4.6875     0.0000    39.0625   71.8750     9.3750     0.0000    38.2812   0.0667   \n",
      "--------------------------------------------------------------------------------------------------------------------------\n",
      "6       0.6434   77.7544   80.4688     3.9062     0.0000    37.5000   77.3438     5.4688     0.0000    37.5000   0.0800   \n",
      "--------------------------------------------------------------------------------------------------------------------------\n",
      "7       0.5782   80.1442   71.8750     5.4688     0.0000    21.8750   75.0000     3.9062     0.0000    21.0938   0.0933   \n",
      "--------------------------------------------------------------------------------------------------------------------------\n",
      "8       0.5429   81.5004   80.4688     3.1250     0.0000    27.3438   82.8125     7.8125     0.0000    30.4688   0.1067   \n",
      "--------------------------------------------------------------------------------------------------------------------------\n",
      "9       0.5048   82.5821   80.4688     3.1250     0.0000    28.9062   82.8125     7.0312     0.0000    30.4688   0.1200   \n",
      "--------------------------------------------------------------------------------------------------------------------------\n",
      "10      0.4827   83.3894   80.4688     5.4688     0.7812    34.3750   80.4688     3.9062     0.0000    22.6562   0.1333   \n",
      "--------------------------------------------------------------------------------------------------------------------------\n",
      "11      0.4604   84.2788   83.5938     3.9062     0.0000    35.1562   75.7812     2.3438     0.0000    30.4688   0.1467   \n",
      "--------------------------------------------------------------------------------------------------------------------------\n",
      "12      0.4404   84.9980   82.0312     3.1250     0.0000    19.5312   79.6875     4.6875     0.0000    21.8750   0.1600   \n",
      "--------------------------------------------------------------------------------------------------------------------------\n",
      "13      0.4318   85.2304   85.9375     2.3438     0.0000    48.4375   82.8125     0.7812     0.0000    47.6562   0.1733   \n",
      "--------------------------------------------------------------------------------------------------------------------------\n",
      "14      0.4288   85.5108   82.0312     1.5625     0.0000    17.9688   77.3438     3.9062     0.0000    21.8750   0.1867   \n",
      "--------------------------------------------------------------------------------------------------------------------------\n",
      "15      0.4204   85.6310   80.4688     2.3438     0.0000    25.7812   78.9062     8.5938     0.0000    34.3750   0.2000   \n",
      "--------------------------------------------------------------------------------------------------------------------------\n",
      "16      0.4131   85.8233   85.1562     5.4688     0.0000    17.9688   76.5625     2.3438     0.0000    17.9688   0.1867   \n",
      "--------------------------------------------------------------------------------------------------------------------------\n",
      "17      0.3980   86.4363   85.1562     5.4688     0.0000    30.4688   85.1562     3.9062     0.0000    31.2500   0.1733   \n",
      "--------------------------------------------------------------------------------------------------------------------------\n",
      "18      0.3784   87.1194   94.5312     1.5625     0.0000    26.5625   89.8438     1.5625     0.0000    29.6875   0.1600   \n",
      "--------------------------------------------------------------------------------------------------------------------------\n",
      "19      0.3651   87.5481   87.5000     7.8125     0.0000    16.4062   87.5000     7.8125     0.0000    17.9688   0.1467   \n",
      "--------------------------------------------------------------------------------------------------------------------------\n",
      "20      0.3490   88.2232   90.6250     4.6875     0.0000    26.5625   89.0625     4.6875     0.0000    28.1250   0.1333   \n",
      "--------------------------------------------------------------------------------------------------------------------------\n",
      "21      0.3312   88.5697   87.5000     0.7812     0.0000    23.4375   84.3750     4.6875     0.0000    24.2188   0.1200   \n",
      "--------------------------------------------------------------------------------------------------------------------------\n",
      "22      0.3209   89.0765   92.9688     9.3750     0.0000    26.5625   86.7188     9.3750     0.0000    26.5625   0.1067   \n",
      "--------------------------------------------------------------------------------------------------------------------------\n",
      "23      0.2993   89.7175   87.5000     6.2500     0.0000    32.8125   85.1562     2.3438     0.0000    33.5938   0.0933   \n",
      "--------------------------------------------------------------------------------------------------------------------------\n",
      "24      0.2793   90.4607   90.6250     3.1250     0.0000    31.2500   86.7188     3.9062     0.0000    28.1250   0.0800   \n",
      "--------------------------------------------------------------------------------------------------------------------------\n",
      "25      0.2537   91.4323   93.7500     3.1250     0.0000    34.3750   90.6250     7.0312     0.0000    35.1562   0.0667   \n",
      "--------------------------------------------------------------------------------------------------------------------------\n",
      "26      0.2274   92.2516   92.9688     4.6875     0.0000    32.0312   86.7188     7.8125     0.0000    31.2500   0.0533   \n",
      "--------------------------------------------------------------------------------------------------------------------------\n",
      "27      0.2010   93.0929   96.8750     2.3438     0.0000    21.8750   92.9688     7.0312     0.0000    25.0000   0.0400   \n",
      "--------------------------------------------------------------------------------------------------------------------------\n",
      "28      0.1592   94.6014   97.6562     8.5938     0.0000    21.8750   95.3125     7.8125     0.0000    24.2188   0.0267   \n",
      "--------------------------------------------------------------------------------------------------------------------------\n",
      "29      0.1134   96.1999   99.2188     7.8125     0.0000    26.5625   94.5312     10.1562    0.0000    23.4375   0.0133   \n",
      "--------------------------------------------------------------------------------------------------------------------------\n",
      "30      0.0733   97.5701   100.0000    7.0312     0.0000    24.2188   94.5312     11.7188    0.0000    22.6562   0.0000   \n",
      "--------------------------------------------------------------------------------------------------------------------------\n",
      "==========================================================================================================================\n",
      "Total Epoch: 30\n",
      "Time Elapsed: 1:35:31.086907\n",
      "Min(epoch)/Max(epoch): \n",
      "-Loss: 0.0733(30)/1.9526(1)\n",
      "-Acc: 25.4587(1)/97.5701(30)\n",
      "-Clean(Tr): 25.0000(1)/100.0000(30)\n",
      "-FGSM(Tr): 0.7812(21)/9.3750(3)\n",
      "-PGD(Tr): 0.0000(3)/4.6875(1)\n",
      "-GN(Tr): 16.4062(19)/48.4375(13)\n",
      "-Clean(Te): 33.5938(1)/95.3125(28)\n",
      "-FGSM(Te): 0.7812(13)/14.0625(3)\n",
      "-PGD(Te): 0.0000(4)/6.2500(1)\n",
      "-GN(Te): 17.9688(16)/47.6562(13)\n",
      "-lr: 0.0000(30)/0.2000(15)\n",
      "--------------------------------------------------------------------------------------------------------------------------\n"
     ]
    }
   ],
   "source": [
    "# Train Model\n",
    "trainer = Trainer(model, train_sets, test_sets)\n",
    "trainer.train(train_loader, epochs=30,\n",
    "              save_path=\"./_models/\"+NAME, scheduler=\"Cyclic\", \n",
    "              record_type=\"Epoch\", save_type=\"Epoch\")"
   ]
  },
  {
   "cell_type": "code",
   "execution_count": 8,
   "metadata": {},
   "outputs": [
    {
     "name": "stdout",
     "output_type": "stream",
     "text": [
      "...Saved as csv to ./_models/00_Base_C.csv !\n"
     ]
    }
   ],
   "source": [
    "trainer.save_all(\"./_models/\"+NAME)"
   ]
  },
  {
   "cell_type": "code",
   "execution_count": 9,
   "metadata": {},
   "outputs": [
    {
     "name": "stdout",
     "output_type": "stream",
     "text": [
      "Final Test Acc : 94.51\n"
     ]
    }
   ],
   "source": [
    "print(\"Final Test Acc : %2.2f\"%get_acc(model, test_loader))"
   ]
  },
  {
   "cell_type": "markdown",
   "metadata": {},
   "source": [
    "## 2. Record Visualization"
   ]
  },
  {
   "cell_type": "code",
   "execution_count": 11,
   "metadata": {},
   "outputs": [
    {
     "data": {
      "image/png": "[encoded data removed]",
      "text/plain": [
       "<Figure size 432x432 with 1 Axes>"
      ]
     },
     "metadata": {},
     "output_type": "display_data"
    }
   ],
   "source": [
    "# Plot Train and Test Accuracy\n",
    "trainer.rm.plot(title=NAME, xlabel=\"Epoch\", ylabel=\"Accuracy\", ylabel_second=\"Loss\",\n",
    "                x_key='Epoch', y_keys=['Acc', 'Clean(Te)', 'FGSM(Te)', 'PGD(Te)', 'GN(Te)'],\n",
    "                ylim=(-10, 110), colors=['k', 'r', 'g', 'b', 'c'])"
   ]
  },
  {
   "cell_type": "markdown",
   "metadata": {},
   "source": [
    "## 3. White Box Attack"
   ]
  },
  {
   "cell_type": "code",
   "execution_count": 12,
   "metadata": {},
   "outputs": [],
   "source": [
    "import torchattacks\n",
    "from torchattacks import FGSM, PGD, MultiAttack"
   ]
  },
  {
   "cell_type": "code",
   "execution_count": 13,
   "metadata": {},
   "outputs": [],
   "source": [
    "model.load_state_dict(torch.load(\"./_models/\"+NAME+\".pth\"))\n",
    "model = model.cuda().eval()"
   ]
  },
  {
   "cell_type": "markdown",
   "metadata": {},
   "source": [
    "### 3.1 FGSM"
   ]
  },
  {
   "cell_type": "code",
   "execution_count": 14,
   "metadata": {},
   "outputs": [
    {
     "name": "stdout",
     "output_type": "stream",
     "text": [
      "- Save Progress : 100.00 % / Accuracy : 11.79 %\n",
      "- Save Complete!\n"
     ]
    }
   ],
   "source": [
    "fgsm = FGSM(model, eps=8/255)\n",
    "fgsm.set_mode('int')\n",
    "fgsm.save(data_loader=test_loader,\n",
    "          file_name=\"./_datasets/\"+NAME+\"_FGSM.pt\", accuracy=True)"
   ]
  },
  {
   "cell_type": "markdown",
   "metadata": {},
   "source": [
    "### 3.2 PGD"
   ]
  },
  {
   "cell_type": "code",
   "execution_count": 15,
   "metadata": {},
   "outputs": [
    {
     "name": "stdout",
     "output_type": "stream",
     "text": [
      "- Save Progress : 100.00 % / Accuracy : 0.00 %\n",
      "- Save Complete!\n"
     ]
    }
   ],
   "source": [
    "# WB2 : PGD\n",
    "pgd = PGD(model, alpha=2/255, eps=8/255, iters=50)\n",
    "pgd.set_mode('int')\n",
    "pgd.save(data_loader=test_loader,\n",
    "         file_name=\"./_datasets/\"+NAME+\"_PGD.pt\", accuracy=True)"
   ]
  },
  {
   "cell_type": "markdown",
   "metadata": {},
   "source": [
    "### 3.3 PGD with 10 Random Restarts"
   ]
  },
  {
   "cell_type": "code",
   "execution_count": 16,
   "metadata": {},
   "outputs": [
    {
     "name": "stdout",
     "output_type": "stream",
     "text": [
      "- Multi Attack Progress [1 / 10]             \r"
     ]
    },
    {
     "name": "stderr",
     "output_type": "stream",
     "text": [
      "/usr/local/lib/python3.6/dist-packages/torchattacks/attacks/multiattack.py:58: Warning:\n",
      "\n",
      "\n",
      " * Ealry Stopped cause all images are successfully perturbed.\n",
      "\n"
     ]
    },
    {
     "name": "stdout",
     "output_type": "stream",
     "text": [
      "- Save Progress : 100.00 % / Accuracy : 0.00 %\n",
      "- Save Complete!\n"
     ]
    }
   ],
   "source": [
    "# WB3 : PGD\n",
    "pgd = PGD(model, alpha=2/255, eps=8/255, iters=50, random_start=True)\n",
    "multi = MultiAttack(model, [pgd]*10)\n",
    "multi.set_mode('int')\n",
    "multi.save(data_loader=test_loader,\n",
    "           file_name=\"./_datasets/\"+NAME+\"_RPGD.pt\", accuracy=True)"
   ]
  },
  {
   "cell_type": "markdown",
   "metadata": {},
   "source": [
    "## 4. Black Box Attack"
   ]
  },
  {
   "cell_type": "code",
   "execution_count": 17,
   "metadata": {},
   "outputs": [],
   "source": [
    "from torch.utils.data import TensorDataset, DataLoader"
   ]
  },
  {
   "cell_type": "code",
   "execution_count": 18,
   "metadata": {},
   "outputs": [
    {
     "data": {
      "text/plain": [
       "7.2"
      ]
     },
     "execution_count": 18,
     "metadata": {},
     "output_type": "execute_result"
    }
   ],
   "source": [
    "# BB1 : WRN_28_20\n",
    "adv_images, adv_labels = torch.load(\"./_datasets/00_WRN_28_20_PGD.pt\")\n",
    "adv_data = TensorDataset(adv_images.float()/255, adv_labels)\n",
    "adv_loader = DataLoader(adv_data, batch_size=128, shuffle=False)\n",
    "get_acc(model, adv_loader)"
   ]
  },
  {
   "cell_type": "code",
   "execution_count": 19,
   "metadata": {},
   "outputs": [
    {
     "data": {
      "text/plain": [
       "9.68"
      ]
     },
     "execution_count": 19,
     "metadata": {},
     "output_type": "execute_result"
    }
   ],
   "source": [
    "# BB2 : WRN_40_10\n",
    "adv_images, adv_labels = torch.load(\"./_datasets/00_WRN_40_10_PGD.pt\")\n",
    "adv_data = torch.utils.data.TensorDataset(adv_images.float()/255, adv_labels)\n",
    "adv_loader = DataLoader(adv_data, batch_size=128, shuffle=False)\n",
    "get_acc(model, adv_loader)"
   ]
  }
 ],
 "metadata": {
  "kernelspec": {
   "display_name": "Python 3",
   "language": "python",
   "name": "python3"
  },
  "language_info": {
   "codemirror_mode": {
    "name": "ipython",
    "version": 3
   },
   "file_extension": ".py",
   "mimetype": "text/x-python",
   "name": "python",
   "nbconvert_exporter": "python",
   "pygments_lexer": "ipython3",
   "version": "3.6.3"
  }
 },
 "nbformat": 4,
 "nbformat_minor": 2
}
