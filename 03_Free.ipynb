{
 "cells": [
  {
   "cell_type": "markdown",
   "metadata": {},
   "source": [
    "# 03_Free"
   ]
  },
  {
   "cell_type": "code",
   "execution_count": 1,
   "metadata": {},
   "outputs": [],
   "source": [
    "import numpy as np\n",
    "import random\n",
    "import torch\n",
    "torch.cuda.set_device(1)"
   ]
  },
  {
   "cell_type": "code",
   "execution_count": 2,
   "metadata": {},
   "outputs": [
    {
     "name": "stdout",
     "output_type": "stream",
     "text": [
      "Random Seed: 617\n"
     ]
    }
   ],
   "source": [
    "random_seed = 617\n",
    "torch.manual_seed(random_seed)\n",
    "torch.cuda.manual_seed(random_seed)\n",
    "torch.cuda.manual_seed_all(random_seed) # if use multi-GPU\n",
    "torch.backends.cudnn.deterministic = True\n",
    "torch.backends.cudnn.benchmark = False\n",
    "np.random.seed(random_seed)\n",
    "random.seed(random_seed)\n",
    "print(\"Random Seed:\",random_seed)"
   ]
  },
  {
   "cell_type": "code",
   "execution_count": 3,
   "metadata": {
    "scrolled": false
   },
   "outputs": [
    {
     "name": "stdout",
     "output_type": "stream",
     "text": [
      "Loader : Base\n",
      "Model : Base\n",
      "Train : Adv PGD\n"
     ]
    }
   ],
   "source": [
    "# Import utils from a specific defense\n",
    "from defenses.base.loader import get_loader\n",
    "from defenses.base.model import get_model\n",
    "from defenses.free.train import Trainer, get_acc"
   ]
  },
  {
   "cell_type": "code",
   "execution_count": 4,
   "metadata": {},
   "outputs": [],
   "source": [
    "# Set Name\n",
    "NAME = \"03_Free\""
   ]
  },
  {
   "cell_type": "markdown",
   "metadata": {},
   "source": [
    "## 1. Train"
   ]
  },
  {
   "cell_type": "code",
   "execution_count": 5,
   "metadata": {},
   "outputs": [
    {
     "name": "stdout",
     "output_type": "stream",
     "text": [
      "Files already downloaded and verified\n",
      "Files already downloaded and verified\n",
      "Data Loaded!\n",
      "Train Data Length : 50000\n",
      "Test Data Length : 10000\n",
      "Files already downloaded and verified\n",
      "Files already downloaded and verified\n",
      "Data Loaded!\n",
      "Train Data Length : 50000\n",
      "Test Data Length : 10000\n",
      "WRN-28 is loaded.\n"
     ]
    }
   ],
   "source": [
    "# Get Train, Test datasets\n",
    "train_loader_ns, _ = get_loader(shuffle_train=False)\n",
    "train_loader, test_loader = get_loader(shuffle_train=True)\n",
    "\n",
    "# Get Model\n",
    "model = get_model().cuda()"
   ]
  },
  {
   "cell_type": "code",
   "execution_count": 6,
   "metadata": {},
   "outputs": [],
   "source": [
    "train_sets = iter(train_loader_ns).next()\n",
    "test_sets = iter(test_loader).next()"
   ]
  },
  {
   "cell_type": "code",
   "execution_count": 7,
   "metadata": {},
   "outputs": [
    {
     "name": "stdout",
     "output_type": "stream",
     "text": [
      "Train Information:\n",
      "-Epochs: 25\n",
      "-Optimizer: SGD (\n",
      "Parameter Group 0\n",
      "    dampening: 0\n",
      "    initial_lr: 0.1\n",
      "    lr: 0.1\n",
      "    momentum: 0.9\n",
      "    nesterov: False\n",
      "    weight_decay: 0.0005\n",
      ")\n",
      "-Scheduler: <torch.optim.lr_scheduler.MultiStepLR object at 0x7fe6dab0e080>\n",
      "-Save Path: ./_models/03_Free\n",
      "-Save Type: Per Epoch\n",
      "-Record Type: Per Epoch\n",
      "-Device: cuda\n",
      "--------------------------------------------------------------------------------------------------------------------------\n",
      "Epoch   Loss     Acc       Clean(Tr)   FGSM(Tr)   PGD(Tr)   GN(Tr)    Clean(Te)   FGSM(Te)   PGD(Te)   GN(Te)    lr       \n",
      "==========================================================================================================================\n",
      "1       1.9775   26.6887   35.1562     22.6562    22.6562   35.9375   39.0625     22.6562    21.8750   38.2812   0.1000   \n",
      "--------------------------------------------------------------------------------------------------------------------------\n",
      "2       1.7965   33.0389   39.0625     16.4062    15.6250   39.0625   40.6250     27.3438    26.5625   35.9375   0.1000   \n",
      "--------------------------------------------------------------------------------------------------------------------------\n",
      "3       1.6762   37.2356   52.3438     28.9062    28.1250   51.5625   58.5938     24.2188    21.0938   55.4688   0.1000   \n",
      "--------------------------------------------------------------------------------------------------------------------------\n",
      "4       1.5972   40.5208   49.2188     21.8750    19.5312   49.2188   50.0000     20.3125    19.5312   50.7812   0.1000   \n",
      "--------------------------------------------------------------------------------------------------------------------------\n",
      "5       1.5572   42.0252   46.8750     21.8750    19.5312   46.0938   46.0938     18.7500    16.4062   46.8750   0.1000   \n",
      "--------------------------------------------------------------------------------------------------------------------------\n",
      "6       1.5279   42.9087   41.4062     18.7500    17.1875   35.1562   44.5312     26.5625    26.5625   40.6250   0.1000   \n",
      "--------------------------------------------------------------------------------------------------------------------------\n",
      "7       1.5077   43.9163   55.4688     28.1250    25.7812   54.6875   55.4688     17.1875    16.4062   53.9062   0.0200   \n",
      "--------------------------------------------------------------------------------------------------------------------------\n",
      "8       1.4818   43.7059   69.5312     39.0625    38.2812   62.5000   65.6250     32.0312    30.4688   57.0312   0.0200   \n",
      "--------------------------------------------------------------------------------------------------------------------------\n",
      "9       1.3746   47.9908   71.8750     43.7500    41.4062   69.5312   64.8438     40.6250    35.1562   66.4062   0.0200   \n",
      "--------------------------------------------------------------------------------------------------------------------------\n",
      "10      1.3207   50.0861   72.6562     44.5312    42.9688   71.8750   65.6250     38.2812    34.3750   67.9688   0.0200   \n",
      "--------------------------------------------------------------------------------------------------------------------------\n",
      "11      1.2756   51.9471   67.9688     42.1875    40.6250   60.9375   69.5312     37.5000    33.5938   64.0625   0.0200   \n",
      "--------------------------------------------------------------------------------------------------------------------------\n",
      "12      1.2431   53.0369   72.6562     42.9688    39.0625   65.6250   64.8438     42.1875    36.7188   65.6250   0.0200   \n",
      "--------------------------------------------------------------------------------------------------------------------------\n",
      "13      1.2154   54.2668   76.5625     45.3125    44.5312   69.5312   70.3125     38.2812    37.5000   64.0625   0.0200   \n",
      "--------------------------------------------------------------------------------------------------------------------------\n",
      "14      1.1946   55.3385   75.7812     44.5312    40.6250   67.9688   72.6562     49.2188    42.1875   68.7500   0.0200   \n",
      "--------------------------------------------------------------------------------------------------------------------------\n",
      "15      1.1766   55.8654   78.1250     49.2188    42.1875   71.8750   78.9062     35.1562    31.2500   65.6250   0.0040   \n",
      "--------------------------------------------------------------------------------------------------------------------------\n",
      "16      1.2144   53.1851   84.3750     61.7188    56.2500   72.6562   79.6875     49.2188    46.0938   74.2188   0.0040   \n",
      "--------------------------------------------------------------------------------------------------------------------------\n",
      "17      1.1299   55.8954   85.1562     59.3750    55.4688   77.3438   82.0312     56.2500    50.0000   78.9062   0.0040   \n",
      "--------------------------------------------------------------------------------------------------------------------------\n",
      "18      1.0706   58.2332   88.2812     60.1562    55.4688   76.5625   82.8125     52.3438    44.5312   81.2500   0.0040   \n",
      "--------------------------------------------------------------------------------------------------------------------------\n",
      "19      1.0294   59.6915   88.2812     57.8125    53.9062   81.2500   80.4688     52.3438    47.6562   75.7812   0.0040   \n",
      "--------------------------------------------------------------------------------------------------------------------------\n",
      "20      0.9913   61.2460   89.0625     63.2812    60.1562   77.3438   85.1562     49.2188    42.1875   62.5000   0.0008   \n",
      "--------------------------------------------------------------------------------------------------------------------------\n",
      "21      1.0131   60.0661   92.9688     70.3125    57.8125   84.3750   85.9375     52.3438    46.0938   83.5938   0.0008   \n",
      "--------------------------------------------------------------------------------------------------------------------------\n",
      "22      0.9524   62.3037   90.6250     69.5312    64.8438   81.2500   85.9375     53.9062    46.8750   79.6875   0.0008   \n",
      "--------------------------------------------------------------------------------------------------------------------------\n",
      "23      0.9186   63.6659   91.4062     75.7812    70.3125   85.1562   86.7188     53.9062    46.8750   80.4688   0.0008   \n",
      "--------------------------------------------------------------------------------------------------------------------------\n",
      "24      0.8847   64.6755   93.7500     75.0000    63.2812   82.8125   85.1562     53.9062    43.7500   78.9062   0.0008   \n",
      "--------------------------------------------------------------------------------------------------------------------------\n",
      "25      0.8502   65.8894   90.6250     76.5625    70.3125   84.3750   88.2812     53.1250    46.8750   82.8125   0.0008   \n",
      "--------------------------------------------------------------------------------------------------------------------------\n",
      "==========================================================================================================================\n",
      "Total Epoch: 25\n",
      "Time Elapsed: 9:34:34.082534\n",
      "Min(epoch)/Max(epoch): \n",
      "-Loss: 0.8502(25)/1.9775(1)\n",
      "-Acc: 26.6887(1)/65.8894(25)\n",
      "-Clean(Tr): 35.1562(1)/93.7500(24)\n",
      "-FGSM(Tr): 16.4062(2)/76.5625(25)\n",
      "-PGD(Tr): 15.6250(2)/70.3125(23)\n",
      "-GN(Tr): 35.1562(6)/85.1562(23)\n",
      "-Clean(Te): 39.0625(1)/88.2812(25)\n",
      "-FGSM(Te): 17.1875(7)/56.2500(17)\n",
      "-PGD(Te): 16.4062(5)/50.0000(17)\n",
      "-GN(Te): 35.9375(2)/83.5938(21)\n",
      "-lr: 0.0008(20)/0.1000(1)\n",
      "--------------------------------------------------------------------------------------------------------------------------\n"
     ]
    }
   ],
   "source": [
    "import torch.optim as optim\n",
    "from torch.optim.lr_scheduler import MultiStepLR\n",
    "optimizer = optim.SGD(model.parameters(), lr=0.1,\n",
    "                      momentum=0.9, weight_decay=5e-4)\n",
    "\n",
    "scheduler = MultiStepLR(optimizer,\n",
    "                        milestones=[60//8, 120//8, 160//8],\n",
    "                        gamma=0.2)\n",
    "\n",
    "scheduler_type = 'Epoch'\n",
    "\n",
    "# Train Model\n",
    "trainer = Trainer(model, train_sets, test_sets,\n",
    "                  eps=8/255, m=8)\n",
    "trainer.train(train_loader, epochs=25,\n",
    "              optimizer=optimizer,\n",
    "              scheduler=scheduler,\n",
    "              scheduler_type=scheduler_type,\n",
    "              save_path=\"./_models/\"+NAME,\n",
    "              record_type=\"Epoch\", save_type=\"Epoch\")"
   ]
  },
  {
   "cell_type": "code",
   "execution_count": 8,
   "metadata": {},
   "outputs": [
    {
     "name": "stdout",
     "output_type": "stream",
     "text": [
      "...Saved as csv to ./_models/03_Free.csv !\n"
     ]
    }
   ],
   "source": [
    "trainer.save_all(\"./_models/\"+NAME)"
   ]
  },
  {
   "cell_type": "code",
   "execution_count": 9,
   "metadata": {},
   "outputs": [
    {
     "name": "stdout",
     "output_type": "stream",
     "text": [
      "Final Test Acc : 85.17\n"
     ]
    }
   ],
   "source": [
    "print(\"Final Test Acc : %2.2f\"%get_acc(model, test_loader))"
   ]
  },
  {
   "cell_type": "markdown",
   "metadata": {},
   "source": [
    "## 2. Record Visualization"
   ]
  },
  {
   "cell_type": "code",
   "execution_count": 10,
   "metadata": {},
   "outputs": [
    {
     "data": {
      "image/png": "[encoded data removed]",
      "text/plain": [
       "<Figure size 432x432 with 1 Axes>"
      ]
     },
     "metadata": {},
     "output_type": "display_data"
    }
   ],
   "source": [
    "# Plot Train and Test Accuracy\n",
    "trainer.rm.plot(title=NAME, xlabel=\"Epoch\", ylabel=\"Accuracy\", ylabel_second=\"Loss\",\n",
    "                x_key='Epoch', y_keys=['Acc', 'Clean(Te)', 'FGSM(Te)', 'PGD(Te)', 'GN(Te)'],\n",
    "                ylim=(-10, 110), colors=['k', 'r', 'g', 'b', 'c'])"
   ]
  },
  {
   "cell_type": "markdown",
   "metadata": {},
   "source": [
    "## 3. White Box Attack"
   ]
  },
  {
   "cell_type": "code",
   "execution_count": 11,
   "metadata": {},
   "outputs": [],
   "source": [
    "import torchattacks\n",
    "from torchattacks import FGSM, PGD, MultiAttack"
   ]
  },
  {
   "cell_type": "code",
   "execution_count": 12,
   "metadata": {},
   "outputs": [],
   "source": [
    "model.load_state_dict(torch.load(\"./_models/\"+NAME+\".pth\"))\n",
    "model = model.cuda().eval()"
   ]
  },
  {
   "cell_type": "markdown",
   "metadata": {},
   "source": [
    "### 3.1 FGSM"
   ]
  },
  {
   "cell_type": "code",
   "execution_count": 13,
   "metadata": {},
   "outputs": [
    {
     "name": "stdout",
     "output_type": "stream",
     "text": [
      "- Save Progress : 100.00 % / Accuracy : 54.62 %\n",
      "- Save Complete!\n"
     ]
    }
   ],
   "source": [
    "fgsm = FGSM(model, eps=8/255)\n",
    "fgsm.set_mode('int')\n",
    "fgsm.save(data_loader=test_loader,\n",
    "          file_name=\"./_datasets/\"+NAME+\"_FGSM.pt\", accuracy=True)"
   ]
  },
  {
   "cell_type": "markdown",
   "metadata": {},
   "source": [
    "### 3.2 PGD"
   ]
  },
  {
   "cell_type": "code",
   "execution_count": 14,
   "metadata": {},
   "outputs": [
    {
     "name": "stdout",
     "output_type": "stream",
     "text": [
      "- Save Progress : 100.00 % / Accuracy : 44.98 %\n",
      "- Save Complete!\n"
     ]
    }
   ],
   "source": [
    "# WB2 : PGD\n",
    "pgd = PGD(model, alpha=2/255, eps=8/255, iters=50)\n",
    "pgd.set_mode('int')\n",
    "pgd.save(data_loader=test_loader,\n",
    "         file_name=\"./_datasets/\"+NAME+\"_PGD.pt\", accuracy=True)"
   ]
  },
  {
   "cell_type": "markdown",
   "metadata": {},
   "source": [
    "### 3.3 PGD with 10 Random Restarts"
   ]
  },
  {
   "cell_type": "code",
   "execution_count": 15,
   "metadata": {},
   "outputs": [
    {
     "name": "stdout",
     "output_type": "stream",
     "text": [
      "- Save Progress : 100.00 % / Accuracy : 44.72 %\n",
      "- Save Complete!\n"
     ]
    }
   ],
   "source": [
    "# WB3 : PGD\n",
    "pgd = PGD(model, alpha=2/255, eps=8/255, iters=50, random_start=True)\n",
    "multi = MultiAttack(model, [pgd]*10)\n",
    "multi.set_mode('int')\n",
    "multi.save(data_loader=test_loader,\n",
    "           file_name=\"./_datasets/\"+NAME+\"_RPGD.pt\", accuracy=True)"
   ]
  },
  {
   "cell_type": "markdown",
   "metadata": {},
   "source": [
    "## 4. Black Box Attack"
   ]
  },
  {
   "cell_type": "code",
   "execution_count": 16,
   "metadata": {},
   "outputs": [],
   "source": [
    "from torch.utils.data import TensorDataset, DataLoader"
   ]
  },
  {
   "cell_type": "code",
   "execution_count": 17,
   "metadata": {},
   "outputs": [
    {
     "data": {
      "text/plain": [
       "84.3"
      ]
     },
     "execution_count": 17,
     "metadata": {},
     "output_type": "execute_result"
    }
   ],
   "source": [
    "# BB1 : WRN_28_20\n",
    "adv_images, adv_labels = torch.load(\"./_datasets/00_WRN_28_20_PGD.pt\")\n",
    "adv_data = TensorDataset(adv_images.float()/255, adv_labels)\n",
    "adv_loader = DataLoader(adv_data, batch_size=128, shuffle=False)\n",
    "get_acc(model, adv_loader)"
   ]
  },
  {
   "cell_type": "code",
   "execution_count": 18,
   "metadata": {},
   "outputs": [
    {
     "data": {
      "text/plain": [
       "84.15"
      ]
     },
     "execution_count": 18,
     "metadata": {},
     "output_type": "execute_result"
    }
   ],
   "source": [
    "# BB2 : WRN_40_10\n",
    "adv_images, adv_labels = torch.load(\"./_datasets/00_WRN_40_10_PGD.pt\")\n",
    "adv_data = torch.utils.data.TensorDataset(adv_images.float()/255, adv_labels)\n",
    "adv_loader = DataLoader(adv_data, batch_size=128, shuffle=False)\n",
    "get_acc(model, adv_loader)"
   ]
  }
 ],
 "metadata": {
  "kernelspec": {
   "display_name": "Python 3",
   "language": "python",
   "name": "python3"
  },
  "language_info": {
   "codemirror_mode": {
    "name": "ipython",
    "version": 3
   },
   "file_extension": ".py",
   "mimetype": "text/x-python",
   "name": "python",
   "nbconvert_exporter": "python",
   "pygments_lexer": "ipython3",
   "version": "3.6.3"
  }
 },
 "nbformat": 4,
 "nbformat_minor": 2
}
