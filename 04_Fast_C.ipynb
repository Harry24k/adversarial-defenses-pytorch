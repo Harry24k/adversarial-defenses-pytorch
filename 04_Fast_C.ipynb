{
 "cells": [
  {
   "cell_type": "markdown",
   "metadata": {},
   "source": [
    "# 04_Fast_C"
   ]
  },
  {
   "cell_type": "code",
   "execution_count": 1,
   "metadata": {},
   "outputs": [],
   "source": [
    "import numpy as np\n",
    "import random\n",
    "import torch\n",
    "torch.cuda.set_device(2)"
   ]
  },
  {
   "cell_type": "code",
   "execution_count": 2,
   "metadata": {},
   "outputs": [
    {
     "name": "stdout",
     "output_type": "stream",
     "text": [
      "Random Seed: 617\n"
     ]
    }
   ],
   "source": [
    "random_seed = 617\n",
    "torch.manual_seed(random_seed)\n",
    "torch.cuda.manual_seed(random_seed)\n",
    "torch.cuda.manual_seed_all(random_seed) # if use multi-GPU\n",
    "torch.backends.cudnn.deterministic = True\n",
    "torch.backends.cudnn.benchmark = False\n",
    "np.random.seed(random_seed)\n",
    "random.seed(random_seed)\n",
    "print(\"Random Seed:\",random_seed)"
   ]
  },
  {
   "cell_type": "code",
   "execution_count": 3,
   "metadata": {
    "scrolled": false
   },
   "outputs": [
    {
     "name": "stdout",
     "output_type": "stream",
     "text": [
      "Loader : Base\n",
      "Model : Base\n",
      "Train : Fast\n"
     ]
    }
   ],
   "source": [
    "# Import utils from a specific defense\n",
    "from defenses.base.loader import get_loader\n",
    "from defenses.base.model import get_model\n",
    "from defenses.fast.train import Trainer, get_acc"
   ]
  },
  {
   "cell_type": "code",
   "execution_count": 4,
   "metadata": {},
   "outputs": [],
   "source": [
    "# Set Name\n",
    "NAME = \"04_Fast_C\""
   ]
  },
  {
   "cell_type": "markdown",
   "metadata": {},
   "source": [
    "## 1. Train"
   ]
  },
  {
   "cell_type": "code",
   "execution_count": 5,
   "metadata": {},
   "outputs": [
    {
     "name": "stdout",
     "output_type": "stream",
     "text": [
      "Files already downloaded and verified\n",
      "Files already downloaded and verified\n",
      "Data Loaded!\n",
      "Train Data Length : 50000\n",
      "Test Data Length : 10000\n",
      "Files already downloaded and verified\n",
      "Files already downloaded and verified\n",
      "Data Loaded!\n",
      "Train Data Length : 50000\n",
      "Test Data Length : 10000\n",
      "WRN-28 is loaded.\n"
     ]
    }
   ],
   "source": [
    "# Get Train, Test datasets\n",
    "train_loader_ns, _ = get_loader(shuffle_train=False)\n",
    "train_loader, test_loader = get_loader(shuffle_train=True)\n",
    "\n",
    "# Get Model\n",
    "model = get_model().cuda()"
   ]
  },
  {
   "cell_type": "code",
   "execution_count": 6,
   "metadata": {},
   "outputs": [],
   "source": [
    "train_sets = iter(train_loader_ns).next()\n",
    "test_sets = iter(test_loader).next()"
   ]
  },
  {
   "cell_type": "code",
   "execution_count": 7,
   "metadata": {
    "scrolled": false
   },
   "outputs": [
    {
     "name": "stdout",
     "output_type": "stream",
     "text": [
      "Train Information:\n",
      "-Epochs: 30\n",
      "-Optimizer: SGD (\n",
      "Parameter Group 0\n",
      "    dampening: 0\n",
      "    initial_lr: 0\n",
      "    lr: 0.0\n",
      "    momentum: 0.9\n",
      "    nesterov: False\n",
      "    weight_decay: 0.0005\n",
      ")\n",
      "-Scheduler: <torch.optim.lr_scheduler.CyclicLR object at 0x7fa312299b38>\n",
      "-Save Path: ./_models/04_Fast_C\n",
      "-Save Type: Per Epoch\n",
      "-Record Type: Per Epoch\n",
      "-Device: cuda\n",
      "--------------------------------------------------------------------------------------------------------------------------\n",
      "Epoch   Loss     Acc       Clean(Tr)   FGSM(Tr)   PGD(Tr)   GN(Tr)    Clean(Te)   FGSM(Te)   PGD(Te)   GN(Te)    lr       \n",
      "==========================================================================================================================\n",
      "1       2.0923   21.1338   28.9062     15.6250    13.2812   28.9062   38.2812     25.0000    22.6562   38.2812   0.0133   \n",
      "--------------------------------------------------------------------------------------------------------------------------\n",
      "2       1.9448   26.4804   32.8125     18.7500    18.7500   33.5938   36.7188     20.3125    20.3125   38.2812   0.0267   \n",
      "--------------------------------------------------------------------------------------------------------------------------\n",
      "3       1.8819   28.2432   45.3125     22.6562    23.4375   43.7500   40.6250     21.0938    19.5312   41.4062   0.0400   \n",
      "--------------------------------------------------------------------------------------------------------------------------\n",
      "4       1.7856   31.8490   50.7812     32.8125    29.6875   47.6562   49.2188     29.6875    28.9062   50.0000   0.0533   \n",
      "--------------------------------------------------------------------------------------------------------------------------\n",
      "5       1.6993   34.9820   56.2500     22.6562    19.5312   55.4688   57.8125     26.5625    23.4375   57.0312   0.0667   \n",
      "--------------------------------------------------------------------------------------------------------------------------\n",
      "6       1.6324   37.6042   57.0312     35.9375    32.8125   57.0312   61.7188     38.2812    34.3750   59.3750   0.0800   \n",
      "--------------------------------------------------------------------------------------------------------------------------\n",
      "7       1.5676   40.5168   64.0625     38.2812    35.9375   57.8125   58.5938     34.3750    31.2500   56.2500   0.0933   \n",
      "--------------------------------------------------------------------------------------------------------------------------\n",
      "8       1.5230   42.4299   62.5000     37.5000    36.7188   58.5938   63.2812     35.1562    33.5938   60.9375   0.1067   \n",
      "--------------------------------------------------------------------------------------------------------------------------\n",
      "9       1.4862   43.9944   70.3125     42.1875    38.2812   68.7500   65.6250     39.0625    35.1562   66.4062   0.1200   \n",
      "--------------------------------------------------------------------------------------------------------------------------\n",
      "10      1.4539   45.2063   69.5312     42.1875    42.1875   65.6250   65.6250     41.4062    35.9375   65.6250   0.1333   \n",
      "--------------------------------------------------------------------------------------------------------------------------\n",
      "11      1.4244   46.2640   66.4062     34.3750    33.5938   64.0625   58.5938     28.1250    25.0000   58.5938   0.1467   \n",
      "--------------------------------------------------------------------------------------------------------------------------\n",
      "12      1.4080   47.0433   67.1875     42.9688    39.8438   60.9375   61.7188     43.7500    39.8438   63.2812   0.1600   \n",
      "--------------------------------------------------------------------------------------------------------------------------\n",
      "13      1.3852   48.2933   78.1250     41.4062    38.2812   71.0938   65.6250     35.9375    33.5938   64.8438   0.1733   \n",
      "--------------------------------------------------------------------------------------------------------------------------\n",
      "14      1.3672   48.7720   76.5625     46.0938    41.4062   67.9688   75.0000     41.4062    37.5000   73.4375   0.1867   \n",
      "--------------------------------------------------------------------------------------------------------------------------\n",
      "15      1.3538   49.2147   67.1875     37.5000    35.9375   62.5000   66.4062     42.1875    35.9375   61.7188   0.2000   \n",
      "--------------------------------------------------------------------------------------------------------------------------\n",
      "16      1.3355   50.2584   75.0000     46.8750    45.3125   66.4062   72.6562     46.0938    39.0625   64.8438   0.1867   \n",
      "--------------------------------------------------------------------------------------------------------------------------\n",
      "17      1.3164   50.8073   78.9062     47.6562    42.9688   73.4375   79.6875     42.9688    39.0625   72.6562   0.1733   \n",
      "--------------------------------------------------------------------------------------------------------------------------\n",
      "18      1.2917   51.7728   77.3438     50.0000    47.6562   74.2188   75.0000     44.5312    38.2812   67.1875   0.1600   \n",
      "--------------------------------------------------------------------------------------------------------------------------\n",
      "19      1.2722   52.4058   78.1250     47.6562    46.0938   65.6250   71.0938     47.6562    42.1875   62.5000   0.1467   \n",
      "--------------------------------------------------------------------------------------------------------------------------\n",
      "20      1.2521   53.1470   84.3750     53.1250    48.4375   67.9688   79.6875     47.6562    42.1875   57.8125   0.1333   \n",
      "--------------------------------------------------------------------------------------------------------------------------\n",
      "21      1.2307   53.8041   82.8125     50.7812    43.7500   70.3125   74.2188     46.8750    40.6250   69.5312   0.1200   \n",
      "--------------------------------------------------------------------------------------------------------------------------\n",
      "22      1.2064   54.8237   79.6875     55.4688    52.3438   68.7500   77.3438     46.8750    41.4062   61.7188   0.1067   \n",
      "--------------------------------------------------------------------------------------------------------------------------\n",
      "23      1.1813   55.7812   82.8125     57.0312    50.7812   78.9062   78.1250     47.6562    43.7500   75.7812   0.0933   \n",
      "--------------------------------------------------------------------------------------------------------------------------\n",
      "24      1.1508   56.9291   82.8125     60.1562    54.6875   71.8750   77.3438     48.4375    42.1875   65.6250   0.0800   \n",
      "--------------------------------------------------------------------------------------------------------------------------\n",
      "25      1.1123   58.2031   85.1562     56.2500    50.0000   74.2188   80.4688     50.7812    42.1875   72.6562   0.0667   \n",
      "--------------------------------------------------------------------------------------------------------------------------\n",
      "26      1.0673   59.8598   85.9375     61.7188    49.2188   76.5625   84.3750     53.1250    44.5312   68.7500   0.0533   \n",
      "--------------------------------------------------------------------------------------------------------------------------\n",
      "27      0.7467   72.5901   93.7500     93.7500    3.1250    73.4375   84.3750     92.1875    7.8125    67.1875   0.0400   \n",
      "--------------------------------------------------------------------------------------------------------------------------\n",
      "28      0.3313   88.6058   83.5938     97.6562    0.7812    53.1250   80.4688     95.3125    1.5625    49.2188   0.0267   \n",
      "--------------------------------------------------------------------------------------------------------------------------\n",
      "29      0.2541   91.3982   90.6250     79.6875    4.6875    67.1875   85.9375     72.6562    8.5938    65.6250   0.0133   \n",
      "--------------------------------------------------------------------------------------------------------------------------\n",
      "30      0.1009   96.8189   92.1875     97.6562    0.7812    70.3125   86.7188     97.6562    0.7812    60.9375   0.0000   \n",
      "--------------------------------------------------------------------------------------------------------------------------\n",
      "==========================================================================================================================\n",
      "Total Epoch: 30\n",
      "Time Elapsed: 2:58:29.397690\n",
      "Min(epoch)/Max(epoch): \n",
      "-Loss: 0.1009(30)/2.0923(1)\n",
      "-Acc: 21.1338(1)/96.8189(30)\n",
      "-Clean(Tr): 28.9062(1)/93.7500(27)\n",
      "-FGSM(Tr): 15.6250(1)/97.6562(28)\n",
      "-PGD(Tr): 0.7812(28)/54.6875(24)\n",
      "-GN(Tr): 28.9062(1)/78.9062(23)\n",
      "-Clean(Te): 36.7188(2)/86.7188(30)\n",
      "-FGSM(Te): 20.3125(2)/97.6562(30)\n",
      "-PGD(Te): 0.7812(30)/44.5312(26)\n",
      "-GN(Te): 38.2812(1)/75.7812(23)\n",
      "-lr: 0.0000(30)/0.2000(15)\n",
      "--------------------------------------------------------------------------------------------------------------------------\n"
     ]
    }
   ],
   "source": [
    "# Train Model\n",
    "trainer = Trainer(model, train_sets, test_sets,\n",
    "                  eps=8/255, alpha=10/255)\n",
    "trainer.train(train_loader, epochs=30,\n",
    "              save_path=\"./_models/\"+NAME, scheduler=\"Cyclic\", \n",
    "              record_type=\"Epoch\", save_type=\"Epoch\")"
   ]
  },
  {
   "cell_type": "code",
   "execution_count": 8,
   "metadata": {},
   "outputs": [
    {
     "name": "stdout",
     "output_type": "stream",
     "text": [
      "...Saved as csv to ./_models/04_Fast_C.csv !\n"
     ]
    }
   ],
   "source": [
    "trainer.save_all(\"./_models/\"+NAME)"
   ]
  },
  {
   "cell_type": "code",
   "execution_count": 9,
   "metadata": {},
   "outputs": [
    {
     "name": "stdout",
     "output_type": "stream",
     "text": [
      "Final Test Acc : 85.21\n"
     ]
    }
   ],
   "source": [
    "print(\"Final Test Acc : %2.2f\"%get_acc(model, test_loader))"
   ]
  },
  {
   "cell_type": "markdown",
   "metadata": {},
   "source": [
    "## 2. Record Visualization"
   ]
  },
  {
   "cell_type": "code",
   "execution_count": 10,
   "metadata": {},
   "outputs": [
    {
     "data": {
      "image/png": "[encoded data removed]",
      "text/plain": [
       "<Figure size 432x432 with 1 Axes>"
      ]
     },
     "metadata": {},
     "output_type": "display_data"
    }
   ],
   "source": [
    "# Plot Train and Test Accuracy\n",
    "trainer.rm.plot(title=NAME, xlabel=\"Epoch\", ylabel=\"Accuracy\", ylabel_second=\"Loss\",\n",
    "                x_key='Epoch', y_keys=['Acc', 'Clean(Te)', 'FGSM(Te)', 'PGD(Te)', 'GN(Te)'],\n",
    "                ylim=(-10, 110), colors=['k', 'r', 'g', 'b', 'c'])"
   ]
  },
  {
   "cell_type": "markdown",
   "metadata": {},
   "source": [
    "## 3. White Box Attack"
   ]
  },
  {
   "cell_type": "code",
   "execution_count": 11,
   "metadata": {},
   "outputs": [],
   "source": [
    "import torchattacks\n",
    "from torchattacks import FGSM, PGD, MultiAttack"
   ]
  },
  {
   "cell_type": "code",
   "execution_count": 12,
   "metadata": {},
   "outputs": [],
   "source": [
    "model.load_state_dict(torch.load(\"./_models/\"+NAME+\".pth\"))\n",
    "model = model.cuda().eval()"
   ]
  },
  {
   "cell_type": "markdown",
   "metadata": {},
   "source": [
    "### 3.1 FGSM"
   ]
  },
  {
   "cell_type": "code",
   "execution_count": 13,
   "metadata": {},
   "outputs": [
    {
     "name": "stdout",
     "output_type": "stream",
     "text": [
      "- Save Progress : 100.00 % / Accuracy : 97.40 %\n",
      "- Save Complete!\n"
     ]
    }
   ],
   "source": [
    "fgsm = FGSM(model, eps=8/255)\n",
    "fgsm.set_mode('int')\n",
    "fgsm.save(data_loader=test_loader,\n",
    "          file_name=\"./_datasets/\"+NAME+\"_FGSM.pt\", accuracy=True)"
   ]
  },
  {
   "cell_type": "markdown",
   "metadata": {},
   "source": [
    "### 3.2 PGD"
   ]
  },
  {
   "cell_type": "code",
   "execution_count": 14,
   "metadata": {},
   "outputs": [
    {
     "name": "stdout",
     "output_type": "stream",
     "text": [
      "- Save Progress : 100.00 % / Accuracy : 0.08 %\n",
      "- Save Complete!\n"
     ]
    }
   ],
   "source": [
    "# WB2 : PGD\n",
    "pgd = PGD(model, alpha=2/255, eps=8/255, steps=50)\n",
    "pgd.set_mode('int')\n",
    "pgd.save(data_loader=test_loader,\n",
    "         file_name=\"./_datasets/\"+NAME+\"_PGD.pt\", accuracy=True)"
   ]
  },
  {
   "cell_type": "markdown",
   "metadata": {},
   "source": [
    "### 3.3 PGD with 10 Random Restarts"
   ]
  },
  {
   "cell_type": "code",
   "execution_count": 15,
   "metadata": {},
   "outputs": [
    {
     "name": "stderr",
     "output_type": "stream",
     "text": [
      "/usr/local/lib/python3.6/dist-packages/torchattacks/attacks/multiattack.py:58: UserWarning:\n",
      "\n",
      "Ealry Stopped cause all images are successfully perturbed.\n",
      "\n"
     ]
    },
    {
     "name": "stdout",
     "output_type": "stream",
     "text": [
      "- Save Progress : 100.00 % / Accuracy : 0.00 %\n",
      "- Save Complete!\n"
     ]
    }
   ],
   "source": [
    "# WB3 : PGD\n",
    "pgd = PGD(model, alpha=2/255, eps=8/255, steps=50, random_start=True)\n",
    "multi = MultiAttack(model, [pgd]*10)\n",
    "multi.set_mode('int')\n",
    "multi.save(data_loader=test_loader,\n",
    "           file_name=\"./_datasets/\"+NAME+\"_RPGD.pt\", accuracy=True)"
   ]
  },
  {
   "cell_type": "markdown",
   "metadata": {},
   "source": [
    "## 4. Black Box Attack"
   ]
  },
  {
   "cell_type": "code",
   "execution_count": 16,
   "metadata": {},
   "outputs": [],
   "source": [
    "from torch.utils.data import TensorDataset, DataLoader"
   ]
  },
  {
   "cell_type": "code",
   "execution_count": 17,
   "metadata": {},
   "outputs": [
    {
     "data": {
      "text/plain": [
       "85.2"
      ]
     },
     "execution_count": 17,
     "metadata": {},
     "output_type": "execute_result"
    }
   ],
   "source": [
    "# BB1 : WRN_28_20\n",
    "adv_images, adv_labels = torch.load(\"./_datasets/00_WRN_28_20_PGD.pt\")\n",
    "adv_data = TensorDataset(adv_images.float()/255, adv_labels)\n",
    "adv_loader = DataLoader(adv_data, batch_size=128, shuffle=False)\n",
    "get_acc(model, adv_loader)"
   ]
  },
  {
   "cell_type": "code",
   "execution_count": 18,
   "metadata": {},
   "outputs": [
    {
     "data": {
      "text/plain": [
       "85.89"
      ]
     },
     "execution_count": 18,
     "metadata": {},
     "output_type": "execute_result"
    }
   ],
   "source": [
    "# BB2 : WRN_40_10\n",
    "adv_images, adv_labels = torch.load(\"./_datasets/00_WRN_40_10_PGD.pt\")\n",
    "adv_data = torch.utils.data.TensorDataset(adv_images.float()/255, adv_labels)\n",
    "adv_loader = DataLoader(adv_data, batch_size=128, shuffle=False)\n",
    "get_acc(model, adv_loader)"
   ]
  }
 ],
 "metadata": {
  "kernelspec": {
   "display_name": "Python 3",
   "language": "python",
   "name": "python3"
  },
  "language_info": {
   "codemirror_mode": {
    "name": "ipython",
    "version": 3
   },
   "file_extension": ".py",
   "mimetype": "text/x-python",
   "name": "python",
   "nbconvert_exporter": "python",
   "pygments_lexer": "ipython3",
   "version": "3.6.5"
  }
 },
 "nbformat": 4,
 "nbformat_minor": 2
}
