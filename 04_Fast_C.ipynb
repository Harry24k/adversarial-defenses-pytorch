{
 "cells": [
  {
   "cell_type": "markdown",
   "metadata": {},
   "source": [
    "# 04_Fast_C"
   ]
  },
  {
   "cell_type": "code",
   "execution_count": 1,
   "metadata": {},
   "outputs": [],
   "source": [
    "import numpy as np\n",
    "import random\n",
    "import torch\n",
    "torch.cuda.set_device(0)"
   ]
  },
  {
   "cell_type": "code",
   "execution_count": 2,
   "metadata": {},
   "outputs": [
    {
     "name": "stdout",
     "output_type": "stream",
     "text": [
      "Random Seed: 617\n"
     ]
    }
   ],
   "source": [
    "random_seed = 617\n",
    "torch.manual_seed(random_seed)\n",
    "torch.cuda.manual_seed(random_seed)\n",
    "torch.cuda.manual_seed_all(random_seed) # if use multi-GPU\n",
    "torch.backends.cudnn.deterministic = True\n",
    "torch.backends.cudnn.benchmark = False\n",
    "np.random.seed(random_seed)\n",
    "random.seed(random_seed)\n",
    "print(\"Random Seed:\",random_seed)"
   ]
  },
  {
   "cell_type": "code",
   "execution_count": 3,
   "metadata": {
    "scrolled": false
   },
   "outputs": [
    {
     "name": "stdout",
     "output_type": "stream",
     "text": [
      "Loader : Base\n",
      "Model : Base\n",
      "Train : Fast\n"
     ]
    }
   ],
   "source": [
    "# Import utils from a specific defense\n",
    "from defenses.base.loader import get_loader\n",
    "from defenses.base.model import get_model\n",
    "from defenses.fast.train import Trainer, get_acc"
   ]
  },
  {
   "cell_type": "code",
   "execution_count": 4,
   "metadata": {},
   "outputs": [],
   "source": [
    "# Set Name\n",
    "NAME = \"04_Fast_C\""
   ]
  },
  {
   "cell_type": "markdown",
   "metadata": {},
   "source": [
    "## 1. Train"
   ]
  },
  {
   "cell_type": "code",
   "execution_count": 5,
   "metadata": {},
   "outputs": [
    {
     "name": "stdout",
     "output_type": "stream",
     "text": [
      "Files already downloaded and verified\n",
      "Files already downloaded and verified\n",
      "Data Loaded!\n",
      "Train Data Length : 50000\n",
      "Test Data Length : 10000\n",
      "Files already downloaded and verified\n",
      "Files already downloaded and verified\n",
      "Data Loaded!\n",
      "Train Data Length : 50000\n",
      "Test Data Length : 10000\n",
      "WRN-28 is loaded.\n"
     ]
    }
   ],
   "source": [
    "# Get Train, Test datasets\n",
    "train_loader_ns, _ = get_loader(shuffle_train=False)\n",
    "train_loader, test_loader = get_loader(shuffle_train=True)\n",
    "\n",
    "# Get Model\n",
    "model = get_model().cuda()"
   ]
  },
  {
   "cell_type": "code",
   "execution_count": 6,
   "metadata": {},
   "outputs": [],
   "source": [
    "train_sets = iter(train_loader_ns).next()\n",
    "test_sets = iter(test_loader).next()"
   ]
  },
  {
   "cell_type": "code",
   "execution_count": 7,
   "metadata": {
    "scrolled": false
   },
   "outputs": [
    {
     "name": "stdout",
     "output_type": "stream",
     "text": [
      "Train Information:\n",
      "-Epochs: 30\n",
      "-Optimizer: SGD (\n",
      "Parameter Group 0\n",
      "    dampening: 0\n",
      "    initial_lr: 0\n",
      "    lr: 0.0\n",
      "    momentum: 0.9\n",
      "    nesterov: False\n",
      "    weight_decay: 0.0005\n",
      ")\n",
      "-Scheduler: <torch.optim.lr_scheduler.CyclicLR object at 0x7f34232e3898>\n",
      "-Save Path: ./_models/04_Fast_C\n",
      "-Save Type: Per Epoch\n",
      "-Record Type: Per Epoch\n",
      "-Device: cuda\n",
      "--------------------------------------------------------------------------------------------------------------------------\n",
      "Epoch   Loss     Acc       Clean(Tr)   FGSM(Tr)   PGD(Tr)   GN(Tr)    Clean(Te)   FGSM(Te)   PGD(Te)   GN(Te)    lr       \n",
      "==========================================================================================================================\n",
      "1       2.0973   20.7732   25.0000     15.6250    14.0625   27.3438   39.0625     25.7812    25.0000   37.5000   0.0133   \n",
      "--------------------------------------------------------------------------------------------------------------------------\n",
      "2       1.9506   26.3081   33.5938     17.9688    17.1875   33.5938   37.5000     23.4375    21.0938   37.5000   0.0267   \n",
      "--------------------------------------------------------------------------------------------------------------------------\n",
      "3       1.8868   28.0609   48.4375     24.2188    22.6562   44.5312   42.9688     21.8750    21.0938   38.2812   0.0400   \n",
      "--------------------------------------------------------------------------------------------------------------------------\n",
      "4       1.7920   31.5885   48.4375     32.0312    28.9062   45.3125   49.2188     28.1250    27.3438   48.4375   0.0533   \n",
      "--------------------------------------------------------------------------------------------------------------------------\n",
      "5       1.7089   34.7476   55.4688     22.6562    21.0938   51.5625   57.8125     27.3438    24.2188   56.2500   0.0667   \n",
      "--------------------------------------------------------------------------------------------------------------------------\n",
      "6       1.6440   37.2796   54.6875     37.5000    33.5938   52.3438   60.1562     39.0625    36.7188   57.0312   0.0800   \n",
      "--------------------------------------------------------------------------------------------------------------------------\n",
      "7       1.5783   40.1062   64.8438     35.9375    34.3750   57.8125   58.5938     32.0312    31.2500   55.4688   0.0933   \n",
      "--------------------------------------------------------------------------------------------------------------------------\n",
      "8       1.5362   41.7748   63.2812     41.4062    39.8438   56.2500   64.8438     36.7188    32.0312   57.8125   0.1067   \n",
      "--------------------------------------------------------------------------------------------------------------------------\n",
      "9       1.4973   43.4615   67.9688     41.4062    39.8438   67.9688   63.2812     32.0312    29.6875   64.8438   0.1200   \n",
      "--------------------------------------------------------------------------------------------------------------------------\n",
      "10      1.4645   45.0721   67.1875     43.7500    42.9688   64.8438   67.1875     35.9375    33.5938   64.8438   0.1333   \n",
      "--------------------------------------------------------------------------------------------------------------------------\n",
      "11      1.4357   45.7312   69.5312     37.5000    34.3750   67.1875   55.4688     32.0312    28.1250   60.9375   0.1467   \n",
      "--------------------------------------------------------------------------------------------------------------------------\n",
      "12      1.4148   46.7067   65.6250     40.6250    35.1562   61.7188   62.5000     42.1875    39.8438   62.5000   0.1600   \n",
      "--------------------------------------------------------------------------------------------------------------------------\n",
      "13      1.3926   47.9367   75.0000     41.4062    38.2812   70.3125   64.8438     39.0625    35.9375   64.0625   0.1733   \n",
      "--------------------------------------------------------------------------------------------------------------------------\n",
      "14      1.3761   48.4976   76.5625     46.0938    42.9688   67.1875   77.3438     43.7500    39.0625   69.5312   0.1867   \n",
      "--------------------------------------------------------------------------------------------------------------------------\n",
      "15      1.3587   49.1967   71.8750     39.0625    35.9375   59.3750   69.5312     35.9375    29.6875   58.5938   0.2000   \n",
      "--------------------------------------------------------------------------------------------------------------------------\n",
      "16      1.3400   50.0701   71.8750     50.0000    44.5312   63.2812   74.2188     42.9688    42.1875   65.6250   0.1867   \n",
      "--------------------------------------------------------------------------------------------------------------------------\n",
      "17      1.3201   50.6971   76.5625     49.2188    47.6562   70.3125   75.7812     46.0938    38.2812   74.2188   0.1733   \n",
      "--------------------------------------------------------------------------------------------------------------------------\n",
      "18      1.2952   51.5224   80.4688     46.0938    42.1875   72.6562   73.4375     42.1875    39.8438   64.0625   0.1600   \n",
      "--------------------------------------------------------------------------------------------------------------------------\n",
      "19      1.2771   52.2376   79.6875     47.6562    44.5312   64.0625   76.5625     47.6562    39.0625   58.5938   0.1467   \n",
      "--------------------------------------------------------------------------------------------------------------------------\n",
      "20      1.2563   53.0329   81.2500     57.8125    49.2188   67.9688   81.2500     49.2188    40.6250   55.4688   0.1333   \n",
      "--------------------------------------------------------------------------------------------------------------------------\n",
      "21      1.2326   53.9303   79.6875     49.2188    42.1875   68.7500   70.3125     46.0938    42.9688   67.9688   0.1200   \n",
      "--------------------------------------------------------------------------------------------------------------------------\n",
      "22      1.1854   55.6871   78.1250     60.1562    45.3125   69.5312   73.4375     50.7812    34.3750   56.2500   0.1067   \n",
      "--------------------------------------------------------------------------------------------------------------------------\n",
      "23      0.9243   66.1699   62.5000     20.3125    1.5625    38.2812   57.0312     24.2188    1.5625    42.1875   0.0933   \n",
      "--------------------------------------------------------------------------------------------------------------------------\n",
      "24      1.1070   59.3510   82.8125     54.6875    49.2188   73.4375   76.5625     48.4375    42.9688   71.0938   0.0800   \n",
      "--------------------------------------------------------------------------------------------------------------------------\n",
      "25      1.1494   56.9451   81.2500     54.6875    50.0000   75.0000   82.0312     48.4375    40.6250   75.0000   0.0667   \n",
      "--------------------------------------------------------------------------------------------------------------------------\n",
      "26      1.0953   58.7861   83.5938     57.8125    42.9688   73.4375   82.0312     58.5938    35.9375   72.6562   0.0533   \n",
      "--------------------------------------------------------------------------------------------------------------------------\n",
      "27      0.5881   79.5333   71.8750     81.2500    0.0000    65.6250   66.4062     77.3438    0.0000    56.2500   0.0400   \n",
      "--------------------------------------------------------------------------------------------------------------------------\n",
      "28      0.4548   85.1442   79.6875     92.1875    0.0000    53.1250   72.6562     87.5000    0.0000    47.6562   0.0267   \n",
      "--------------------------------------------------------------------------------------------------------------------------\n",
      "29      0.1936   93.8221   83.5938     97.6562    1.5625    71.8750   79.6875     98.4375    0.0000    63.2812   0.0133   \n",
      "--------------------------------------------------------------------------------------------------------------------------\n",
      "30      0.0631   98.0709   83.5938     100.0000   1.5625    77.3438   80.4688     96.8750    0.0000    68.7500   0.0000   \n",
      "--------------------------------------------------------------------------------------------------------------------------\n",
      "==========================================================================================================================\n",
      "Total Epoch: 30\n",
      "Time Elapsed: 2:42:24.055707\n",
      "Min(epoch)/Max(epoch): \n",
      "-Loss: 0.0631(30)/2.0973(1)\n",
      "-Acc: 20.7732(1)/98.0709(30)\n",
      "-Clean(Tr): 25.0000(1)/83.5938(26)\n",
      "-FGSM(Tr): 15.6250(1)/100.0000(30)\n",
      "-PGD(Tr): 0.0000(27)/50.0000(25)\n",
      "-GN(Tr): 27.3438(1)/77.3438(30)\n",
      "-Clean(Te): 37.5000(2)/82.0312(25)\n",
      "-FGSM(Te): 21.8750(3)/98.4375(29)\n",
      "-PGD(Te): 0.0000(27)/42.9688(21)\n",
      "-GN(Te): 37.5000(1)/75.0000(25)\n",
      "-lr: 0.0000(30)/0.2000(15)\n",
      "--------------------------------------------------------------------------------------------------------------------------\n"
     ]
    }
   ],
   "source": [
    "# Train Model\n",
    "trainer = Trainer(model, train_sets, test_sets,\n",
    "                  eps=8/255, alpha=10/255)\n",
    "trainer.train(train_loader, epochs=30,\n",
    "              save_path=\"./_models/\"+NAME, scheduler=\"Cyclic\", \n",
    "              record_type=\"Epoch\", save_type=\"Epoch\")"
   ]
  },
  {
   "cell_type": "code",
   "execution_count": 8,
   "metadata": {},
   "outputs": [
    {
     "name": "stdout",
     "output_type": "stream",
     "text": [
      "...Saved as csv to ./_models/04_Fast_C.csv !\n"
     ]
    }
   ],
   "source": [
    "trainer.save_all(\"./_models/\"+NAME)"
   ]
  },
  {
   "cell_type": "code",
   "execution_count": 9,
   "metadata": {},
   "outputs": [
    {
     "name": "stdout",
     "output_type": "stream",
     "text": [
      "Final Test Acc : 78.94\n"
     ]
    }
   ],
   "source": [
    "print(\"Final Test Acc : %2.2f\"%get_acc(model, test_loader))"
   ]
  },
  {
   "cell_type": "markdown",
   "metadata": {},
   "source": [
    "## 2. Record Visualization"
   ]
  },
  {
   "cell_type": "code",
   "execution_count": 10,
   "metadata": {},
   "outputs": [
    {
     "data": {
      "image/png": "[encoded data removed]",
      "text/plain": [
       "<Figure size 432x432 with 1 Axes>"
      ]
     },
     "metadata": {},
     "output_type": "display_data"
    }
   ],
   "source": [
    "# Plot Train and Test Accuracy\n",
    "trainer.rm.plot(title=NAME, xlabel=\"Epoch\", ylabel=\"Accuracy\", ylabel_second=\"Loss\",\n",
    "                x_key='Epoch', y_keys=['Acc', 'Clean(Te)', 'FGSM(Te)', 'PGD(Te)', 'GN(Te)'],\n",
    "                ylim=(-10, 110), colors=['k', 'r', 'g', 'b', 'c'])"
   ]
  },
  {
   "cell_type": "markdown",
   "metadata": {},
   "source": [
    "## 3. White Box Attack"
   ]
  },
  {
   "cell_type": "code",
   "execution_count": 11,
   "metadata": {},
   "outputs": [],
   "source": [
    "import torchattacks\n",
    "from torchattacks import FGSM, PGD, MultiAttack"
   ]
  },
  {
   "cell_type": "code",
   "execution_count": 12,
   "metadata": {},
   "outputs": [],
   "source": [
    "model.load_state_dict(torch.load(\"./_models/\"+NAME+\".pth\"))\n",
    "model = model.cuda().eval()"
   ]
  },
  {
   "cell_type": "markdown",
   "metadata": {},
   "source": [
    "### 3.1 FGSM"
   ]
  },
  {
   "cell_type": "code",
   "execution_count": 13,
   "metadata": {},
   "outputs": [
    {
     "name": "stdout",
     "output_type": "stream",
     "text": [
      "- Save Progress : 100.00 % / Accuracy : 97.18 %\n",
      "- Save Complete!\n"
     ]
    }
   ],
   "source": [
    "fgsm = FGSM(model, eps=8/255)\n",
    "fgsm.set_mode('int')\n",
    "fgsm.save(data_loader=test_loader,\n",
    "          file_name=\"./_datasets/\"+NAME+\"_FGSM.pt\", accuracy=True)"
   ]
  },
  {
   "cell_type": "markdown",
   "metadata": {},
   "source": [
    "### 3.2 PGD"
   ]
  },
  {
   "cell_type": "code",
   "execution_count": 14,
   "metadata": {},
   "outputs": [
    {
     "name": "stdout",
     "output_type": "stream",
     "text": [
      "- Save Progress : 100.00 % / Accuracy : 0.00 %\n",
      "- Save Complete!\n"
     ]
    }
   ],
   "source": [
    "# WB2 : PGD\n",
    "pgd = PGD(model, alpha=2/255, eps=8/255, iters=50)\n",
    "pgd.set_mode('int')\n",
    "pgd.save(data_loader=test_loader,\n",
    "         file_name=\"./_datasets/\"+NAME+\"_PGD.pt\", accuracy=True)"
   ]
  },
  {
   "cell_type": "markdown",
   "metadata": {},
   "source": [
    "### 3.3 PGD with 10 Random Restarts"
   ]
  },
  {
   "cell_type": "code",
   "execution_count": 15,
   "metadata": {},
   "outputs": [
    {
     "name": "stdout",
     "output_type": "stream",
     "text": [
      "- Multi Attack Progress [1 / 10]             \r"
     ]
    },
    {
     "name": "stderr",
     "output_type": "stream",
     "text": [
      "/usr/local/lib/python3.6/dist-packages/torchattacks/attacks/multiattack.py:58: Warning:\n",
      "\n",
      "\n",
      " * Ealry Stopped cause all images are successfully perturbed.\n",
      "\n"
     ]
    },
    {
     "name": "stdout",
     "output_type": "stream",
     "text": [
      "- Save Progress : 100.00 % / Accuracy : 0.00 %\n",
      "- Save Complete!\n"
     ]
    }
   ],
   "source": [
    "# WB3 : PGD\n",
    "pgd = PGD(model, alpha=2/255, eps=8/255, iters=50, random_start=True)\n",
    "multi = MultiAttack(model, [pgd]*10)\n",
    "multi.set_mode('int')\n",
    "multi.save(data_loader=test_loader,\n",
    "           file_name=\"./_datasets/\"+NAME+\"_RPGD.pt\", accuracy=True)"
   ]
  },
  {
   "cell_type": "markdown",
   "metadata": {},
   "source": [
    "## 4. Black Box Attack"
   ]
  },
  {
   "cell_type": "code",
   "execution_count": 16,
   "metadata": {},
   "outputs": [],
   "source": [
    "from torch.utils.data import TensorDataset, DataLoader"
   ]
  },
  {
   "cell_type": "code",
   "execution_count": 17,
   "metadata": {},
   "outputs": [
    {
     "data": {
      "text/plain": [
       "78.57"
      ]
     },
     "execution_count": 17,
     "metadata": {},
     "output_type": "execute_result"
    }
   ],
   "source": [
    "# BB1 : WRN_28_20\n",
    "adv_images, adv_labels = torch.load(\"./_datasets/00_WRN_28_20_PGD.pt\")\n",
    "adv_data = TensorDataset(adv_images.float()/255, adv_labels)\n",
    "adv_loader = DataLoader(adv_data, batch_size=128, shuffle=False)\n",
    "get_acc(model, adv_loader)"
   ]
  },
  {
   "cell_type": "code",
   "execution_count": 18,
   "metadata": {},
   "outputs": [
    {
     "data": {
      "text/plain": [
       "78.78"
      ]
     },
     "execution_count": 18,
     "metadata": {},
     "output_type": "execute_result"
    }
   ],
   "source": [
    "# BB2 : WRN_40_10\n",
    "adv_images, adv_labels = torch.load(\"./_datasets/00_WRN_40_10_PGD.pt\")\n",
    "adv_data = torch.utils.data.TensorDataset(adv_images.float()/255, adv_labels)\n",
    "adv_loader = DataLoader(adv_data, batch_size=128, shuffle=False)\n",
    "get_acc(model, adv_loader)"
   ]
  },
  {
   "cell_type": "code",
   "execution_count": null,
   "metadata": {},
   "outputs": [],
   "source": []
  }
 ],
 "metadata": {
  "kernelspec": {
   "display_name": "Python 3",
   "language": "python",
   "name": "python3"
  },
  "language_info": {
   "codemirror_mode": {
    "name": "ipython",
    "version": 3
   },
   "file_extension": ".py",
   "mimetype": "text/x-python",
   "name": "python",
   "nbconvert_exporter": "python",
   "pygments_lexer": "ipython3",
   "version": "3.6.3"
  }
 },
 "nbformat": 4,
 "nbformat_minor": 2
}
