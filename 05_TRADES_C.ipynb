{
 "cells": [
  {
   "cell_type": "markdown",
   "metadata": {},
   "source": [
    "# 05_TRADES_C"
   ]
  },
  {
   "cell_type": "code",
   "execution_count": 1,
   "metadata": {},
   "outputs": [],
   "source": [
    "import numpy as np\n",
    "import random\n",
    "import torch\n",
    "torch.cuda.set_device(2)"
   ]
  },
  {
   "cell_type": "code",
   "execution_count": 2,
   "metadata": {},
   "outputs": [
    {
     "name": "stdout",
     "output_type": "stream",
     "text": [
      "Random Seed: 617\n"
     ]
    }
   ],
   "source": [
    "random_seed = 617\n",
    "torch.manual_seed(random_seed)\n",
    "torch.cuda.manual_seed(random_seed)\n",
    "torch.cuda.manual_seed_all(random_seed) # if use multi-GPU\n",
    "torch.backends.cudnn.deterministic = True\n",
    "torch.backends.cudnn.benchmark = False\n",
    "np.random.seed(random_seed)\n",
    "random.seed(random_seed)\n",
    "print(\"Random Seed:\",random_seed)"
   ]
  },
  {
   "cell_type": "code",
   "execution_count": 3,
   "metadata": {
    "scrolled": false
   },
   "outputs": [
    {
     "name": "stdout",
     "output_type": "stream",
     "text": [
      "Loader : Base\n",
      "Model : Base\n",
      "Train : TRADES\n"
     ]
    }
   ],
   "source": [
    "# Import utils from a specific defense\n",
    "from defenses.base.loader import get_loader\n",
    "from defenses.base.model import get_model\n",
    "from defenses.trades.train import Trainer, get_acc"
   ]
  },
  {
   "cell_type": "code",
   "execution_count": 4,
   "metadata": {},
   "outputs": [],
   "source": [
    "# Set Name\n",
    "NAME = \"05_TRADES_C\""
   ]
  },
  {
   "cell_type": "markdown",
   "metadata": {},
   "source": [
    "## 1. Train"
   ]
  },
  {
   "cell_type": "code",
   "execution_count": 5,
   "metadata": {},
   "outputs": [
    {
     "name": "stdout",
     "output_type": "stream",
     "text": [
      "Files already downloaded and verified\n",
      "Files already downloaded and verified\n",
      "Data Loaded!\n",
      "Train Data Length : 50000\n",
      "Test Data Length : 10000\n",
      "Files already downloaded and verified\n",
      "Files already downloaded and verified\n",
      "Data Loaded!\n",
      "Train Data Length : 50000\n",
      "Test Data Length : 10000\n",
      "WRN-28 is loaded.\n"
     ]
    }
   ],
   "source": [
    "# Get Train, Test datasets\n",
    "train_loader_ns, _ = get_loader(shuffle_train=False)\n",
    "train_loader, test_loader = get_loader(shuffle_train=True)\n",
    "\n",
    "# Get Model\n",
    "model = get_model().cuda()"
   ]
  },
  {
   "cell_type": "code",
   "execution_count": 6,
   "metadata": {},
   "outputs": [],
   "source": [
    "train_sets = iter(train_loader_ns).next()\n",
    "test_sets = iter(test_loader).next()"
   ]
  },
  {
   "cell_type": "code",
   "execution_count": 7,
   "metadata": {
    "scrolled": false
   },
   "outputs": [
    {
     "name": "stdout",
     "output_type": "stream",
     "text": [
      "Train Information:\n",
      "-Epochs: 30\n",
      "-Optimizer: SGD (\n",
      "Parameter Group 0\n",
      "    dampening: 0\n",
      "    initial_lr: 0\n",
      "    lr: 0.0\n",
      "    momentum: 0.9\n",
      "    nesterov: False\n",
      "    weight_decay: 0.0005\n",
      ")\n",
      "-Scheduler: <torch.optim.lr_scheduler.CyclicLR object at 0x7f1769d90cc0>\n",
      "-Save Path: ./_models/05_TRADES_C\n",
      "-Save Type: Per Epoch\n",
      "-Record Type: Per Epoch\n",
      "-Device: cuda\n",
      "---------------------------------------------------------------------------------------------------------------------------------------\n",
      "Epoch   Loss_Nat   Loss_Rob   Acc       Clean(Tr)   FGSM(Tr)   PGD(Tr)   GN(Tr)    Clean(Te)   FGSM(Te)   PGD(Te)   GN(Te)    lr       \n",
      "=======================================================================================================================================\n",
      "1       1.9718     0.0375     25.1943   28.9062     11.7188    8.5938    24.2188   35.1562     20.3125    16.4062   36.7188   0.0133   \n",
      "---------------------------------------------------------------------------------------------------------------------------------------\n",
      "2       1.5496     0.1127     42.8345   53.9062     14.8438    11.7188   50.0000   53.9062     14.8438    12.5000   56.2500   0.0267   \n",
      "---------------------------------------------------------------------------------------------------------------------------------------\n",
      "3       1.3224     0.1641     53.0248   60.9375     21.8750    19.5312   60.1562   51.5625     21.0938    18.7500   55.4688   0.0400   \n",
      "---------------------------------------------------------------------------------------------------------------------------------------\n",
      "4       1.1721     0.1896     59.7596   71.0938     24.2188    21.8750   63.2812   63.2812     21.8750    16.4062   68.7500   0.0533   \n",
      "---------------------------------------------------------------------------------------------------------------------------------------\n",
      "5       1.0488     0.2098     65.2444   64.8438     21.8750    18.7500   64.8438   65.6250     23.4375    16.4062   66.4062   0.0667   \n",
      "---------------------------------------------------------------------------------------------------------------------------------------\n",
      "6       0.9675     0.2254     68.5377   71.8750     35.1562    32.0312   65.6250   73.4375     24.2188    19.5312   71.0938   0.0800   \n",
      "---------------------------------------------------------------------------------------------------------------------------------------\n",
      "7       0.8888     0.2372     71.9371   75.7812     35.1562    29.6875   73.4375   71.8750     28.9062    25.0000   65.6250   0.0933   \n",
      "---------------------------------------------------------------------------------------------------------------------------------------\n",
      "8       0.8601     0.2362     73.5417   73.4375     39.8438    35.1562   63.2812   78.1250     36.7188    31.2500   71.8750   0.1067   \n",
      "---------------------------------------------------------------------------------------------------------------------------------------\n",
      "9       0.8248     0.2358     75.0801   77.3438     39.8438    32.8125   71.0938   71.0938     31.2500    27.3438   64.0625   0.1200   \n",
      "---------------------------------------------------------------------------------------------------------------------------------------\n",
      "10      0.8000     0.2413     76.0437   78.1250     37.5000    32.8125   66.4062   78.1250     31.2500    26.5625   67.9688   0.1333   \n",
      "---------------------------------------------------------------------------------------------------------------------------------------\n",
      "11      0.7739     0.2431     77.1434   75.0000     32.8125    25.7812   74.2188   76.5625     24.2188    20.3125   67.9688   0.1467   \n",
      "---------------------------------------------------------------------------------------------------------------------------------------\n",
      "12      0.7557     0.2466     77.9207   78.9062     40.6250    33.5938   70.3125   72.6562     37.5000    32.0312   64.0625   0.1600   \n",
      "---------------------------------------------------------------------------------------------------------------------------------------\n",
      "13      0.7436     0.2455     78.2592   80.4688     36.7188    31.2500   76.5625   75.0000     32.0312    28.1250   71.0938   0.1733   \n",
      "---------------------------------------------------------------------------------------------------------------------------------------\n",
      "14      0.7262     0.2487     78.8762   83.5938     37.5000    35.1562   75.0000   78.1250     39.0625    32.0312   74.2188   0.1867   \n",
      "---------------------------------------------------------------------------------------------------------------------------------------\n",
      "15      0.7194     0.2484     79.3610   80.4688     38.2812    32.0312   70.3125   76.5625     37.5000    30.4688   67.9688   0.2000   \n",
      "---------------------------------------------------------------------------------------------------------------------------------------\n",
      "16      0.7077     0.2495     79.8778   78.1250     47.6562    39.0625   69.5312   77.3438     38.2812    32.8125   68.7500   0.1867   \n",
      "---------------------------------------------------------------------------------------------------------------------------------------\n",
      "17      0.6918     0.2504     80.5008   81.2500     38.2812    33.5938   76.5625   82.0312     35.1562    32.0312   78.1250   0.1733   \n",
      "---------------------------------------------------------------------------------------------------------------------------------------\n",
      "18      0.6681     0.2520     81.2500   83.5938     50.0000    43.7500   75.7812   81.2500     37.5000    29.6875   75.0000   0.1600   \n",
      "---------------------------------------------------------------------------------------------------------------------------------------\n",
      "19      0.6508     0.2522     82.0653   82.8125     39.8438    35.9375   61.7188   81.2500     39.8438    32.0312   58.5938   0.1467   \n",
      "---------------------------------------------------------------------------------------------------------------------------------------\n",
      "20      0.6406     0.2549     82.4379   85.1562     51.5625    45.3125   74.2188   85.9375     38.2812    32.8125   69.5312   0.1333   \n",
      "---------------------------------------------------------------------------------------------------------------------------------------\n",
      "21      0.6121     0.2571     83.3734   82.0312     46.0938    39.8438   71.8750   78.1250     39.8438    32.8125   64.8438   0.1200   \n",
      "---------------------------------------------------------------------------------------------------------------------------------------\n",
      "22      0.6004     0.2556     83.9303   83.5938     50.0000    43.7500   70.3125   83.5938     43.7500    38.2812   69.5312   0.1067   \n",
      "---------------------------------------------------------------------------------------------------------------------------------------\n",
      "23      0.5760     0.2595     84.5873   88.2812     48.4375    45.3125   74.2188   81.2500     42.9688    36.7188   75.0000   0.0933   \n",
      "---------------------------------------------------------------------------------------------------------------------------------------\n",
      "24      0.5506     0.2627     85.4487   89.8438     50.7812    45.3125   73.4375   81.2500     44.5312    41.4062   72.6562   0.0800   \n",
      "---------------------------------------------------------------------------------------------------------------------------------------\n",
      "25      0.5270     0.2624     86.4744   87.5000     55.4688    49.2188   79.6875   85.1562     43.7500    33.5938   81.2500   0.0667   \n",
      "---------------------------------------------------------------------------------------------------------------------------------------\n",
      "26      0.4974     0.2647     87.1995   86.7188     53.9062    43.7500   79.6875   87.5000     42.9688    35.1562   79.6875   0.0533   \n",
      "---------------------------------------------------------------------------------------------------------------------------------------\n",
      "27      0.4668     0.2617     88.4736   91.4062     55.4688    49.2188   75.0000   86.7188     46.0938    35.9375   75.7812   0.0400   \n",
      "---------------------------------------------------------------------------------------------------------------------------------------\n",
      "28      0.4156     0.2665     90.1783   92.9688     64.8438    55.4688   80.4688   86.7188     46.0938    42.1875   78.1250   0.0267   \n",
      "---------------------------------------------------------------------------------------------------------------------------------------\n"
     ]
    },
    {
     "name": "stdout",
     "output_type": "stream",
     "text": [
      "29      0.3659     0.2637     91.9912   93.7500     66.4062    58.5938   85.1562   86.7188     49.2188    42.1875   82.0312   0.0133   \n",
      "---------------------------------------------------------------------------------------------------------------------------------------\n",
      "30      0.3113     0.2567     93.9083   93.7500     68.7500    60.9375   89.0625   89.0625     53.9062    42.1875   81.2500   0.0000   \n",
      "---------------------------------------------------------------------------------------------------------------------------------------\n",
      "=======================================================================================================================================\n",
      "Total Epoch: 30\n",
      "Time Elapsed: 15:45:34.372821\n",
      "Min(epoch)/Max(epoch): \n",
      "-Loss_Nat: 0.3113(30)/1.9718(1)\n",
      "-Loss_Rob: 0.0375(1)/0.2665(28)\n",
      "-Acc: 25.1943(1)/93.9083(30)\n",
      "-Clean(Tr): 28.9062(1)/93.7500(29)\n",
      "-FGSM(Tr): 11.7188(1)/68.7500(30)\n",
      "-PGD(Tr): 8.5938(1)/60.9375(30)\n",
      "-GN(Tr): 24.2188(1)/89.0625(30)\n",
      "-Clean(Te): 35.1562(1)/89.0625(30)\n",
      "-FGSM(Te): 14.8438(2)/53.9062(30)\n",
      "-PGD(Te): 12.5000(2)/42.1875(28)\n",
      "-GN(Te): 36.7188(1)/82.0312(29)\n",
      "-lr: 0.0000(30)/0.2000(15)\n",
      "---------------------------------------------------------------------------------------------------------------------------------------\n"
     ]
    }
   ],
   "source": [
    "# Train Model\n",
    "trainer = Trainer(model, train_sets, test_sets,\n",
    "                  eps=8/255, alpha=2/255, steps=7, beta=1.0)\n",
    "trainer.train(train_loader, epochs=30,\n",
    "              save_path=\"./_models/\"+NAME, scheduler=\"Cyclic\", \n",
    "              record_type=\"Epoch\", save_type=\"Epoch\")"
   ]
  },
  {
   "cell_type": "code",
   "execution_count": 8,
   "metadata": {},
   "outputs": [
    {
     "name": "stdout",
     "output_type": "stream",
     "text": [
      "...Saved as csv to ./_models/05_TRADES_C.csv !\n"
     ]
    }
   ],
   "source": [
    "trainer.save_all(\"./_models/\"+NAME)"
   ]
  },
  {
   "cell_type": "code",
   "execution_count": 9,
   "metadata": {},
   "outputs": [
    {
     "name": "stdout",
     "output_type": "stream",
     "text": [
      "Final Test Acc : 88.56\n"
     ]
    }
   ],
   "source": [
    "print(\"Final Test Acc : %2.2f\"%get_acc(model, test_loader))"
   ]
  },
  {
   "cell_type": "markdown",
   "metadata": {},
   "source": [
    "## 2. Record Visualization"
   ]
  },
  {
   "cell_type": "code",
   "execution_count": 10,
   "metadata": {},
   "outputs": [
    {
     "data": {
      "image/png": "[encoded data removed]",
      "text/plain": [
       "<Figure size 432x432 with 1 Axes>"
      ]
     },
     "metadata": {},
     "output_type": "display_data"
    }
   ],
   "source": [
    "# Plot Train and Test Accuracy\n",
    "trainer.rm.plot(title=NAME, xlabel=\"Epoch\", ylabel=\"Accuracy\", ylabel_second=\"Loss\",\n",
    "                x_key='Epoch', y_keys=['Acc', 'Clean(Te)', 'FGSM(Te)', 'PGD(Te)', 'GN(Te)'],\n",
    "                ylim=(-10, 110), colors=['k', 'r', 'g', 'b', 'c'])"
   ]
  },
  {
   "cell_type": "markdown",
   "metadata": {},
   "source": [
    "## 3. White Box Attack"
   ]
  },
  {
   "cell_type": "code",
   "execution_count": 11,
   "metadata": {},
   "outputs": [],
   "source": [
    "import torchattacks\n",
    "from torchattacks import FGSM, PGD, MultiAttack"
   ]
  },
  {
   "cell_type": "code",
   "execution_count": 12,
   "metadata": {},
   "outputs": [],
   "source": [
    "model.load_state_dict(torch.load(\"./_models/\"+NAME+\".pth\"))\n",
    "model = model.cuda().eval()"
   ]
  },
  {
   "cell_type": "markdown",
   "metadata": {},
   "source": [
    "### 3.1 FGSM"
   ]
  },
  {
   "cell_type": "code",
   "execution_count": 13,
   "metadata": {},
   "outputs": [
    {
     "name": "stdout",
     "output_type": "stream",
     "text": [
      "- Save Progress : 100.00 % / Accuracy : 54.48 %\n",
      "- Save Complete!\n"
     ]
    }
   ],
   "source": [
    "fgsm = FGSM(model, eps=8/255)\n",
    "fgsm.set_mode('int')\n",
    "fgsm.save(data_loader=test_loader,\n",
    "          file_name=\"./_datasets/\"+NAME+\"_FGSM.pt\", accuracy=True)"
   ]
  },
  {
   "cell_type": "markdown",
   "metadata": {},
   "source": [
    "### 3.2 PGD"
   ]
  },
  {
   "cell_type": "code",
   "execution_count": 14,
   "metadata": {},
   "outputs": [
    {
     "name": "stdout",
     "output_type": "stream",
     "text": [
      "- Save Progress : 100.00 % / Accuracy : 45.06 %\n",
      "- Save Complete!\n"
     ]
    }
   ],
   "source": [
    "# WB2 : PGD\n",
    "pgd = PGD(model, alpha=2/255, eps=8/255, steps=50)\n",
    "pgd.set_mode('int')\n",
    "pgd.save(data_loader=test_loader,\n",
    "         file_name=\"./_datasets/\"+NAME+\"_PGD.pt\", accuracy=True)"
   ]
  },
  {
   "cell_type": "markdown",
   "metadata": {},
   "source": [
    "### 3.3 PGD with 10 Random Restarts"
   ]
  },
  {
   "cell_type": "code",
   "execution_count": 15,
   "metadata": {},
   "outputs": [
    {
     "name": "stdout",
     "output_type": "stream",
     "text": [
      "- Save Progress : 100.00 % / Accuracy : 44.67 %\n",
      "- Save Complete!\n"
     ]
    }
   ],
   "source": [
    "# WB3 : PGD\n",
    "pgd = PGD(model, alpha=2/255, eps=8/255, steps=50, random_start=True)\n",
    "multi = MultiAttack(model, [pgd]*10)\n",
    "multi.set_mode('int')\n",
    "multi.save(data_loader=test_loader,\n",
    "           file_name=\"./_datasets/\"+NAME+\"_RPGD.pt\", accuracy=True)"
   ]
  },
  {
   "cell_type": "markdown",
   "metadata": {},
   "source": [
    "## 4. Black Box Attack"
   ]
  },
  {
   "cell_type": "code",
   "execution_count": 16,
   "metadata": {},
   "outputs": [],
   "source": [
    "from torch.utils.data import TensorDataset, DataLoader"
   ]
  },
  {
   "cell_type": "code",
   "execution_count": 17,
   "metadata": {},
   "outputs": [
    {
     "data": {
      "text/plain": [
       "86.99"
      ]
     },
     "execution_count": 17,
     "metadata": {},
     "output_type": "execute_result"
    }
   ],
   "source": [
    "# BB1 : WRN_28_20\n",
    "adv_images, adv_labels = torch.load(\"./_datasets/00_WRN_28_20_PGD.pt\")\n",
    "adv_data = TensorDataset(adv_images.float()/255, adv_labels)\n",
    "adv_loader = DataLoader(adv_data, batch_size=128, shuffle=False)\n",
    "get_acc(model, adv_loader)"
   ]
  },
  {
   "cell_type": "code",
   "execution_count": 18,
   "metadata": {},
   "outputs": [
    {
     "data": {
      "text/plain": [
       "87.12"
      ]
     },
     "execution_count": 18,
     "metadata": {},
     "output_type": "execute_result"
    }
   ],
   "source": [
    "# BB2 : WRN_40_10\n",
    "adv_images, adv_labels = torch.load(\"./_datasets/00_WRN_40_10_PGD.pt\")\n",
    "adv_data = torch.utils.data.TensorDataset(adv_images.float()/255, adv_labels)\n",
    "adv_loader = DataLoader(adv_data, batch_size=128, shuffle=False)\n",
    "get_acc(model, adv_loader)"
   ]
  }
 ],
 "metadata": {
  "kernelspec": {
   "display_name": "Python 3",
   "language": "python",
   "name": "python3"
  },
  "language_info": {
   "codemirror_mode": {
    "name": "ipython",
    "version": 3
   },
   "file_extension": ".py",
   "mimetype": "text/x-python",
   "name": "python",
   "nbconvert_exporter": "python",
   "pygments_lexer": "ipython3",
   "version": "3.6.3"
  }
 },
 "nbformat": 4,
 "nbformat_minor": 2
}
